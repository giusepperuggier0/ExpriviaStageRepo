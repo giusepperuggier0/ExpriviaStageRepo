{
 "cells": [
  {
   "cell_type": "code",
   "execution_count": 1,
   "id": "07cbda99",
   "metadata": {},
   "outputs": [
    {
     "data": {
      "text/plain": [
       "'regioni_italiane.csv'"
      ]
     },
     "execution_count": 1,
     "metadata": {},
     "output_type": "execute_result"
    }
   ],
   "source": [
    "import csv\n",
    "\n",
    "# Data provided\n",
    "data = [\n",
    "    {\"id\": \"13\", \"nome\": \"Abruzzo\", \"latitudine\": 42.354008, \"longitudine\": 13.391992},\n",
    "    {\"id\": \"17\", \"nome\": \"Basilicata\", \"latitudine\": 40.633333, \"longitudine\": 15.800000},\n",
    "    {\"id\": \"18\", \"nome\": \"Calabria\", \"latitudine\": 38.910000, \"longitudine\": 16.587500},\n",
    "    {\"id\": \"15\", \"nome\": \"Campania\", \"latitudine\": 40.833333, \"longitudine\": 14.250000},\n",
    "    {\"id\": \"8\", \"nome\": \"Emilia-Romagna\", \"latitudine\": 44.493889, \"longitudine\": 11.342778},\n",
    "    {\"id\": \"6\", \"nome\": \"Friuli-Venezia Giulia\", \"latitudine\": 45.636111, \"longitudine\": 13.804167},\n",
    "    {\"id\": \"12\", \"nome\": \"Lazio\", \"latitudine\": 41.893056, \"longitudine\": 12.482778},\n",
    "    {\"id\": \"7\", \"nome\": \"Liguria\", \"latitudine\": 44.411156, \"longitudine\": 8.932661},\n",
    "    {\"id\": \"3\", \"nome\": \"Lombardia\", \"latitudine\": 45.464161, \"longitudine\": 9.190336},\n",
    "    {\"id\": \"11\", \"nome\": \"Marche\", \"latitudine\": 43.616667, \"longitudine\": 13.516667},\n",
    "    {\"id\": \"14\", \"nome\": \"Molise\", \"latitudine\": 41.561000, \"longitudine\": 14.668400},\n",
    "    {\"id\": \"1\", \"nome\": \"Piemonte\", \"latitudine\": 45.066667, \"longitudine\": 7.700000},\n",
    "    {\"id\": \"16\", \"nome\": \"Puglia\", \"latitudine\": 41.125278, \"longitudine\": 16.866667},\n",
    "    {\"id\": \"20\", \"nome\": \"Sardegna\", \"latitudine\": 39.216667, \"longitudine\": 9.116667},\n",
    "    {\"id\": \"19\", \"nome\": \"Sicilia\", \"latitudine\": 38.115556, \"longitudine\": 13.361389},\n",
    "    {\"id\": \"9\", \"nome\": \"Toscana\", \"latitudine\": 43.771389, \"longitudine\": 11.254167},\n",
    "    {\"id\": \"4\", \"nome\": \"Trentino-Alto Adige/Südtirol\", \"latitudine\": 46.066667, \"longitudine\": 11.116667},\n",
    "    {\"id\": \"10\", \"nome\": \"Umbria\", \"latitudine\": 43.112100, \"longitudine\": 12.388800},\n",
    "    {\"id\": \"2\", \"nome\": \"Valle d'Aosta/Vallée d'Aoste\", \"latitudine\": 45.737222, \"longitudine\": 7.320556},\n",
    "    {\"id\": \"5\", \"nome\": \"Veneto\", \"latitudine\": 45.439722, \"longitudine\": 12.331944}\n",
    "]\n",
    "\n",
    "# File path to save CSV\n",
    "file_path = 'regioni_italiane.csv'\n",
    "\n",
    "# Writing to CSV\n",
    "with open(file_path, mode='w', newline='') as file:\n",
    "    writer = csv.DictWriter(file, fieldnames=[\"id\", \"nome\", \"latitudine\", \"longitudine\"])\n",
    "    writer.writeheader()\n",
    "    writer.writerows(data)\n",
    "\n",
    "file_path\n"
   ]
  }
 ],
 "metadata": {
  "kernelspec": {
   "display_name": "Python 3",
   "language": "python",
   "name": "python3"
  },
  "language_info": {
   "codemirror_mode": {
    "name": "ipython",
    "version": 3
   },
   "file_extension": ".py",
   "mimetype": "text/x-python",
   "name": "python",
   "nbconvert_exporter": "python",
   "pygments_lexer": "ipython3",
   "version": "3.9.2"
  }
 },
 "nbformat": 4,
 "nbformat_minor": 5
}
