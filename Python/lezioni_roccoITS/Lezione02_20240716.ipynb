{
 "cells": [
  {
   "cell_type": "markdown",
   "id": "roman-pearl",
   "metadata": {},
   "source": [
    "# Corso Python\n",
    "## Lezione 2:\n",
    "#### - Operatori di confronto\n",
    "#### - Istruzioni di Controllo\n",
    "#### - Definire Funzioni"
   ]
  },
  {
   "cell_type": "markdown",
   "id": "thick-restoration",
   "metadata": {},
   "source": [
    "## Operatori di Confronto\n",
    "\n",
    "Una **condizione** è una espressione Booleana con valore `True` o `False`\n",
    "\n",
    "Python supporta le consuete condizioni logiche della matematica:\n",
    "\n",
    "    Uguale a: a == b\n",
    "    Diverso: a != b\n",
    "    Minore di: a < b\n",
    "    Minore o uguale a: a <= b\n",
    "    Maggiore di: a > b\n",
    "    Maggiore o uguale a: a >= b"
   ]
  },
  {
   "cell_type": "code",
   "execution_count": 10,
   "id": "popular-september",
   "metadata": {},
   "outputs": [
    {
     "data": {
      "text/plain": [
       "True"
      ]
     },
     "execution_count": 10,
     "metadata": {},
     "output_type": "execute_result"
    }
   ],
   "source": [
    "7 > 4  # maggiore di"
   ]
  },
  {
   "cell_type": "code",
   "execution_count": 11,
   "id": "fluid-auditor",
   "metadata": {},
   "outputs": [
    {
     "data": {
      "text/plain": [
       "False"
      ]
     },
     "execution_count": 11,
     "metadata": {},
     "output_type": "execute_result"
    }
   ],
   "source": [
    "7 < 4  # minore di"
   ]
  },
  {
   "cell_type": "code",
   "execution_count": 12,
   "id": "functional-perth",
   "metadata": {},
   "outputs": [
    {
     "data": {
      "text/plain": [
       "True"
      ]
     },
     "execution_count": 12,
     "metadata": {},
     "output_type": "execute_result"
    }
   ],
   "source": [
    "7 >= 4  # maggiore o uguale a"
   ]
  },
  {
   "cell_type": "code",
   "execution_count": 13,
   "id": "fatal-honduras",
   "metadata": {},
   "outputs": [
    {
     "data": {
      "text/plain": [
       "False"
      ]
     },
     "execution_count": 13,
     "metadata": {},
     "output_type": "execute_result"
    }
   ],
   "source": [
    "7 <= 4  # minore o uguale a"
   ]
  },
  {
   "cell_type": "code",
   "execution_count": 14,
   "id": "voluntary-newcastle",
   "metadata": {},
   "outputs": [
    {
     "data": {
      "text/plain": [
       "True"
      ]
     },
     "execution_count": 14,
     "metadata": {},
     "output_type": "execute_result"
    }
   ],
   "source": [
    "8 == 8  # uguale a"
   ]
  },
  {
   "cell_type": "code",
   "execution_count": 15,
   "id": "limited-grove",
   "metadata": {},
   "outputs": [
    {
     "data": {
      "text/plain": [
       "False"
      ]
     },
     "execution_count": 15,
     "metadata": {},
     "output_type": "execute_result"
    }
   ],
   "source": [
    "3 == 5"
   ]
  },
  {
   "cell_type": "code",
   "execution_count": 16,
   "id": "humanitarian-checklist",
   "metadata": {},
   "outputs": [
    {
     "data": {
      "text/plain": [
       "True"
      ]
     },
     "execution_count": 16,
     "metadata": {},
     "output_type": "execute_result"
    }
   ],
   "source": [
    "3 != 5  # diverso da"
   ]
  },
  {
   "cell_type": "code",
   "execution_count": 17,
   "id": "modified-celebration",
   "metadata": {},
   "outputs": [
    {
     "data": {
      "text/plain": [
       "False"
      ]
     },
     "execution_count": 17,
     "metadata": {},
     "output_type": "execute_result"
    }
   ],
   "source": [
    "8 != 8"
   ]
  },
  {
   "cell_type": "markdown",
   "id": "valuable-fiction",
   "metadata": {},
   "source": [
    "### Confronti a catena"
   ]
  },
  {
   "cell_type": "code",
   "execution_count": 18,
   "id": "available-halloween",
   "metadata": {},
   "outputs": [
    {
     "data": {
      "text/plain": [
       "True"
      ]
     },
     "execution_count": 18,
     "metadata": {},
     "output_type": "execute_result"
    }
   ],
   "source": [
    "x = 3\n",
    "1 <= x <= 5"
   ]
  },
  {
   "cell_type": "code",
   "execution_count": 19,
   "id": "distinguished-dylan",
   "metadata": {},
   "outputs": [
    {
     "data": {
      "text/plain": [
       "False"
      ]
     },
     "execution_count": 19,
     "metadata": {},
     "output_type": "execute_result"
    }
   ],
   "source": [
    "x = 10\n",
    "1 <= x <= 5"
   ]
  },
  {
   "cell_type": "markdown",
   "id": "opposed-quarter",
   "metadata": {},
   "source": [
    "### Self Check\n",
    "\n",
    "Per ognuno degli operatori `!=`, `>=`, `<=`, mostrare che viene sollevato un errore di sintassi se si invertono i simboli in una condizione"
   ]
  },
  {
   "cell_type": "code",
   "execution_count": 20,
   "id": "brutal-contest",
   "metadata": {},
   "outputs": [
    {
     "ename": "SyntaxError",
     "evalue": "cannot assign to literal (4025273513.py, line 1)",
     "output_type": "error",
     "traceback": [
      "\u001b[1;36m  Cell \u001b[1;32mIn[20], line 1\u001b[1;36m\u001b[0m\n\u001b[1;33m    7 =< 10\u001b[0m\n\u001b[1;37m    ^\u001b[0m\n\u001b[1;31mSyntaxError\u001b[0m\u001b[1;31m:\u001b[0m cannot assign to literal\n"
     ]
    }
   ],
   "source": [
    "7 =< 10"
   ]
  },
  {
   "cell_type": "markdown",
   "id": "sudden-coating",
   "metadata": {},
   "source": [
    "### Self Check\n",
    "\n",
    "Utilizza tutti e sei gli operatori di confronto per confrontare i valori $5$ e $9$.\n",
    "Visualizza i valori su una riga utilizzando print"
   ]
  },
  {
   "cell_type": "code",
   "execution_count": 21,
   "id": "chinese-thumbnail",
   "metadata": {},
   "outputs": [
    {
     "name": "stdout",
     "output_type": "stream",
     "text": [
      "True True False True False True\n"
     ]
    }
   ],
   "source": [
    "print(5 < 9, 5 <= 9, 5 > 9, 5 <= 9, 5 == 9, 5 != 9)"
   ]
  },
  {
   "cell_type": "markdown",
   "id": "wired-present",
   "metadata": {},
   "source": [
    "## Istruzioni di Controllo e Sviluppo di un Programma\n",
    "\n",
    "Prima di scrivere un programma per risolvere un problema particolare, è necessario comprendere il problema e avere un approccio attentamente pianificato per risolverlo. È inoltre necessario comprendere gli elementi costitutivi di Python e utilizzare principi comprovati di costruzione del programma."
   ]
  },
  {
   "cell_type": "markdown",
   "id": "numeric-administrator",
   "metadata": {},
   "source": [
    "### Algoritmi\n",
    "\n",
    "Un **algoritmo** è un metodo per risolvere un problema in termini di:\n",
    "\n",
    "1. *azione* da eseguire, \n",
    "2. *ordine* in cui queste azioni vengono eseguite\n",
    "    \n",
    "Un **programma** è una realizzazione di un algoritmo in un linguaggio di programmazione."
   ]
  },
  {
   "cell_type": "markdown",
   "id": "reserved-employer",
   "metadata": {},
   "source": [
    "### Pseudocodice\n",
    "\n",
    "Lo pseudocodice è un linguaggio informale quasi naturale per gli algoritmi di \"riflessione\". Scrivi un testo che descrive cosa dovrebbe fare il tuo programma. Quindi converti lo pseudocodice in Python sostituendo le istruzioni dello pseudocodice con i loro equivalenti Python."
   ]
  },
  {
   "cell_type": "markdown",
   "id": "south-telephone",
   "metadata": {},
   "source": [
    "### Pseudocodice per un programma di addizione\n",
    "\n",
    "1. Chiedere all'utente di inserire il primo numero intero\n",
    "2. Inserire il primo numero intero\n",
    "3. Chiedere all'utente di inserire il secondo numero intero\n",
    "4. Inserire il secondo numero intero\n",
    "5. Addizionare il primo numero intero al secondo, memorizzare la loro somma\n",
    "6. Visualizzare i numeri e la loro somma"
   ]
  },
  {
   "cell_type": "markdown",
   "id": "steady-cholesterol",
   "metadata": {},
   "source": [
    "### Self Check\n",
    "\n",
    "Scrivi istruzioni Python che eseguono le attività descritte dallo pseudocodice di questa sezione. Immettere i numeri interi $10$ e $5$."
   ]
  },
  {
   "cell_type": "code",
   "execution_count": 22,
   "id": "valid-chest",
   "metadata": {},
   "outputs": [
    {
     "name": "stdout",
     "output_type": "stream",
     "text": [
      "La somma di 1 e 2 è 3\n"
     ]
    }
   ],
   "source": [
    "numero1 = int(input('Inserisci il primo numero intero: '))\n",
    "numero2 = int(input('Inserisci il secondo numero intero: '))\n",
    "\n",
    "totale = numero1 + numero2\n",
    "print('La somma di', numero1, 'e', numero2, 'è', totale)"
   ]
  },
  {
   "cell_type": "markdown",
   "id": "colored-mentor",
   "metadata": {},
   "source": [
    "## Istruzioni di Controllo\n",
    "\n",
    "Le istruzioni in un programma vengono eseguite nell'ordine in cui sono scritte. Questa è chiamata **esecuzione sequenziale**. \n",
    "\n",
    "Varie istruzioni Python consentono di specificare che l'istruzione successiva da eseguire potrebbe essere diversa dalla successiva in sequenza. Questo è chiamato trasferimento del controllo e si ottiene con le **istruzioni di controllo** Python."
   ]
  },
  {
   "cell_type": "markdown",
   "id": "political-dietary",
   "metadata": {},
   "source": [
    "## Istruzioni di Selezione\n",
    "\n",
    "Python fornisce tre tipi di istruzioni di selezione che eseguono il codice in base ad una condizione:\n",
    "\n",
    "- L'istruzione `if` esegue una sequenza di azione se una condizione è `True` o salta l'azione se la condizione è `False`\n",
    "\n",
    "- L'istruzione `if ... else` esegue una sequenza di azione se una condizione è `True` o esegue una azione diversa se la condizione è `False`\n",
    "\n",
    "- L'istruzione `if ... elif ... else` esegue una sequenza di azione se una condizione a seconda della verità o falsità di più diverse condizioni"
   ]
  },
  {
   "cell_type": "markdown",
   "id": "senior-carnival",
   "metadata": {},
   "source": [
    "## Istruzione di Ripetizione\n",
    "\n",
    "- L'istruzione `while` ripete una azione (o un gruppo di azioni) fino a quando una condizione rimane `True`\n",
    "\n",
    "- L'istruzione `for` ripete una azione (o un gruppo di azioni) per ogni elemento in una sequenza di elementi."
   ]
  },
  {
   "cell_type": "markdown",
   "id": "oriented-somerset",
   "metadata": {},
   "source": [
    "## Istruzione `if`"
   ]
  },
  {
   "cell_type": "markdown",
   "id": "wrapped-assist",
   "metadata": {},
   "source": [
    "Se il voto dello studente è maggiore o uguale a $18$\n",
    "    \n",
    "    Visualizza ''Superato''"
   ]
  },
  {
   "cell_type": "code",
   "execution_count": 1,
   "id": "clear-little",
   "metadata": {},
   "outputs": [],
   "source": [
    "voto = 27"
   ]
  },
  {
   "cell_type": "code",
   "execution_count": 4,
   "id": "portuguese-understanding",
   "metadata": {},
   "outputs": [
    {
     "name": "stdout",
     "output_type": "stream",
     "text": [
      "Superato\n"
     ]
    }
   ],
   "source": [
    "if voto >= 18:\n",
    "    print('Superato')"
   ]
  },
  {
   "cell_type": "markdown",
   "id": "imported-improvement",
   "metadata": {},
   "source": [
    "### Problemi di Indentazione"
   ]
  },
  {
   "cell_type": "code",
   "execution_count": null,
   "id": "retired-visit",
   "metadata": {},
   "outputs": [],
   "source": [
    "if voto >= 18:\n",
    "print('Superato')"
   ]
  },
  {
   "cell_type": "code",
   "execution_count": 6,
   "id": "becoming-exclusion",
   "metadata": {},
   "outputs": [
    {
     "ename": "IndentationError",
     "evalue": "unindent does not match any outer indentation level (<string>, line 3)",
     "output_type": "error",
     "traceback": [
      "\u001b[1;36m  File \u001b[1;32m<string>:3\u001b[1;36m\u001b[0m\n\u001b[1;33m    print('Ottimo lavoro!')\u001b[0m\n\u001b[1;37m                           ^\u001b[0m\n\u001b[1;31mIndentationError\u001b[0m\u001b[1;31m:\u001b[0m unindent does not match any outer indentation level\n"
     ]
    }
   ],
   "source": [
    "if voto >= 18:\n",
    "    print('Superato')\n",
    "  print('Ottimo lavoro!')"
   ]
  },
  {
   "cell_type": "markdown",
   "id": "varied-sunrise",
   "metadata": {},
   "source": [
    "<center>\n",
    "<img src=\"img/flowchart_if.png\" width=\"300\">\n",
    "</center>"
   ]
  },
  {
   "cell_type": "markdown",
   "id": "meaning-computer",
   "metadata": {},
   "source": [
    "### Ogni Espressione può essere interpretata come Vera o Falsa\n",
    "\n",
    "Puoi basare le decisioni su qualsiasi espressione. Un valore diverso da zero è `True`. Zero è `False`"
   ]
  },
  {
   "cell_type": "code",
   "execution_count": 7,
   "id": "ready-yacht",
   "metadata": {},
   "outputs": [
    {
     "name": "stdout",
     "output_type": "stream",
     "text": [
      "Valori diversi da zero sono veri, quindi questo verrà stampato\n"
     ]
    }
   ],
   "source": [
    "if 1:\n",
    "    print('Valori diversi da zero sono veri, quindi questo verrà stampato')"
   ]
  },
  {
   "cell_type": "code",
   "execution_count": 8,
   "id": "educated-raleigh",
   "metadata": {},
   "outputs": [],
   "source": [
    "if 0:\n",
    "    print('Zero è falso, quindi questo non verrà stampato')"
   ]
  },
  {
   "cell_type": "markdown",
   "id": "moral-encyclopedia",
   "metadata": {},
   "source": [
    "Le stringhe contenenti caratteri sono `True` e le stringhe vuote ('', \"\" o \"\"\" \"\"\") sono `False`"
   ]
  },
  {
   "cell_type": "markdown",
   "id": "connected-marsh",
   "metadata": {},
   "source": [
    "## Istruzione `if ... else`"
   ]
  },
  {
   "cell_type": "markdown",
   "id": "enormous-console",
   "metadata": {},
   "source": [
    "Se il voto dello studente è maggiore o uguale a $18$\n",
    "    \n",
    "    Visualizza ''Superato''\n",
    "    \n",
    "Altrimenti\n",
    "\n",
    "    Visualizza ''Fallito''"
   ]
  },
  {
   "cell_type": "code",
   "execution_count": 1,
   "id": "developed-labor",
   "metadata": {},
   "outputs": [],
   "source": [
    "voto = 15 # Prova a cambiare il voto e a rieseguire l'istruzione if"
   ]
  },
  {
   "cell_type": "code",
   "execution_count": 2,
   "id": "important-composite",
   "metadata": {},
   "outputs": [
    {
     "name": "stdout",
     "output_type": "stream",
     "text": [
      "Fallito\n"
     ]
    }
   ],
   "source": [
    "if voto >= 18:\n",
    "    print('Superato')\n",
    "else:\n",
    "    print('Fallito')"
   ]
  },
  {
   "cell_type": "markdown",
   "id": "controversial-memorial",
   "metadata": {},
   "source": [
    "<center>\n",
    "<img src=\"img/flowchart_if_else.png\" width=\"450\">\n",
    "</center>"
   ]
  },
  {
   "cell_type": "markdown",
   "id": "alternative-sentence",
   "metadata": {},
   "source": [
    "### Espressioni condizionali\n",
    "\n",
    "A volte le suite in un'istruzione `if ... else` assegnano valori diversi a una variabile, in base a una condizione"
   ]
  },
  {
   "cell_type": "code",
   "execution_count": 3,
   "id": "reported-vinyl",
   "metadata": {},
   "outputs": [],
   "source": [
    "voto = 28"
   ]
  },
  {
   "cell_type": "code",
   "execution_count": 4,
   "id": "convinced-garage",
   "metadata": {},
   "outputs": [],
   "source": [
    "if voto >= 18:\n",
    "    risultato = 'Superato'\n",
    "else:\n",
    "    risultato = 'Fallito'"
   ]
  },
  {
   "cell_type": "code",
   "execution_count": 11,
   "id": "behavioral-lodge",
   "metadata": {},
   "outputs": [
    {
     "data": {
      "text/plain": [
       "'Superato'"
      ]
     },
     "execution_count": 11,
     "metadata": {},
     "output_type": "execute_result"
    }
   ],
   "source": [
    "risultato"
   ]
  },
  {
   "cell_type": "markdown",
   "id": "outer-revelation",
   "metadata": {},
   "source": [
    "Puoi scrivere istruzioni usando una espressione condizionale concisa"
   ]
  },
  {
   "cell_type": "code",
   "execution_count": 12,
   "id": "egyptian-snake",
   "metadata": {},
   "outputs": [],
   "source": [
    "result = ('Superato' if voto >= 18 else 'Fallito')"
   ]
  },
  {
   "cell_type": "code",
   "execution_count": 13,
   "id": "referenced-linux",
   "metadata": {},
   "outputs": [
    {
     "data": {
      "text/plain": [
       "'Superato'"
      ]
     },
     "execution_count": 13,
     "metadata": {},
     "output_type": "execute_result"
    }
   ],
   "source": [
    "result"
   ]
  },
  {
   "cell_type": "code",
   "execution_count": 14,
   "id": "asian-fever",
   "metadata": {},
   "outputs": [
    {
     "data": {
      "text/plain": [
       "'Superato'"
      ]
     },
     "execution_count": 14,
     "metadata": {},
     "output_type": "execute_result"
    }
   ],
   "source": [
    "'Superato' if voto >= 18 else 'Fallito'"
   ]
  },
  {
   "cell_type": "markdown",
   "id": "corresponding-cowboy",
   "metadata": {},
   "source": [
    "### Istruzioni multiple in una Suite"
   ]
  },
  {
   "cell_type": "code",
   "execution_count": 7,
   "id": "occasional-spyware",
   "metadata": {},
   "outputs": [],
   "source": [
    "voto = 17"
   ]
  },
  {
   "cell_type": "code",
   "execution_count": 8,
   "id": "fossil-missouri",
   "metadata": {},
   "outputs": [
    {
     "name": "stdout",
     "output_type": "stream",
     "text": [
      "Fallito\n",
      "Devi ripetere nuovamente il corso\n"
     ]
    }
   ],
   "source": [
    "if voto >= 18:\n",
    "    print('Superato')\n",
    "else:\n",
    "    print('Fallito')\n",
    "    print(\"Devi ripetere nuovamente il corso\")"
   ]
  },
  {
   "cell_type": "markdown",
   "id": "forty-madness",
   "metadata": {},
   "source": [
    "Se non fai rientrare (indenti) la seconda stampa, significa che non è nella suite dell'`else`. In tal caso, quell'istruzione viene sempre eseguita, creando strani output errati"
   ]
  },
  {
   "cell_type": "code",
   "execution_count": 9,
   "id": "engaged-roller",
   "metadata": {},
   "outputs": [
    {
     "name": "stdout",
     "output_type": "stream",
     "text": [
      "Superato\n",
      "Devi ripetere nuovamente il corso\n"
     ]
    }
   ],
   "source": [
    "voto = 30\n",
    "\n",
    "if voto >= 18:\n",
    "    print('Superato')\n",
    "else:\n",
    "    print('Fallito')\n",
    "print(\"Devi ripetere nuovamente il corso\")"
   ]
  },
  {
   "cell_type": "markdown",
   "id": "upper-footage",
   "metadata": {},
   "source": [
    "## Istruzione `if ... elif ... else`"
   ]
  },
  {
   "cell_type": "markdown",
   "id": "proper-thanks",
   "metadata": {},
   "source": [
    "Se il voto dello studente è maggiore o uguale a $27$\n",
    "    \n",
    "    Visualizza ''A''\n",
    "    \n",
    "Altrimenti Se il voto dello studente è maggiore o uguale a $24$\n",
    "\n",
    "    Visualizza ''B''\n",
    "    \n",
    "Altrimenti Se il voto dello studente è maggiore o uguale a $21$\n",
    "\n",
    "    Visualizza ''C''\n",
    "    \n",
    "Altrimenti Se il voto dello studente è maggiore o uguale a $18$\n",
    "\n",
    "    Visualizza ''D''\n",
    " \n",
    "Altrimenti\n",
    "    \n",
    "    Visualizza ''F''"
   ]
  },
  {
   "cell_type": "code",
   "execution_count": null,
   "id": "useful-canyon",
   "metadata": {},
   "outputs": [],
   "source": [
    "voto = 23"
   ]
  },
  {
   "cell_type": "code",
   "execution_count": null,
   "id": "disciplinary-logan",
   "metadata": {},
   "outputs": [],
   "source": [
    "if voto >= 27:\n",
    "    print('A')\n",
    "elif voto >= 24:\n",
    "    print('B')\n",
    "elif voto >= 21:\n",
    "    print('C')\n",
    "elif voto >= 18:\n",
    "    print('D')\n",
    "else:\n",
    "    print('F')"
   ]
  },
  {
   "cell_type": "markdown",
   "id": "electrical-farmer",
   "metadata": {},
   "source": [
    "<center>\n",
    "<img src=\"img/flowchart_if_elif.png\" width=\"400\">\n",
    "</center>"
   ]
  },
  {
   "cell_type": "markdown",
   "id": "raised-adolescent",
   "metadata": {},
   "source": [
    "####  `else` è opzionale\n",
    "\n",
    "Cosa succede se `else` non è incluso in una istruzione `if ... elif`?\n"
   ]
  },
  {
   "cell_type": "markdown",
   "id": "flying-turkish",
   "metadata": {},
   "source": [
    "#### Errori Logici\n",
    "\n",
    "- Errore logico non-fatale: Il codice viene eseguito ma produce risultati non corretti.\n",
    "\n",
    "- Errore logico fatale: Viene sollevata una eccezione (come la `ZeroDivisionError`), in tal modo Python mostra un traceback, quindi termina lo script."
   ]
  },
  {
   "cell_type": "markdown",
   "id": "isolated-shirt",
   "metadata": {},
   "source": [
    "## Istruzione `while`"
   ]
  },
  {
   "cell_type": "markdown",
   "id": "entertaining-break",
   "metadata": {},
   "source": [
    "\n",
    "\n",
    "\n",
    "\n",
    "\n",
    "\n",
    "\n",
    "\n",
    "\n",
    "\n",
    "\n",
    "\n",
    "\n",
    "\n",
    "\n",
    "\n",
    "\n",
    "\n",
    "\n",
    "\n",
    "\n",
    "\n",
    "\n",
    "\n",
    "\n",
    "\n",
    "\n",
    "\n",
    "\n",
    "\n",
    "\n",
    "\n",
    "\n",
    "\n",
    "\n",
    "\n",
    "\n",
    "\n",
    "\n",
    "\n",
    "\n",
    "\n",
    "\n",
    "\n",
    "\n",
    "\n",
    "\n",
    "\n",
    "\n",
    "\n",
    "\n",
    "\n",
    "\n",
    "\n",
    "\n",
    "\n",
    "\n",
    "\n",
    "\n",
    "\n",
    "\n",
    "\n",
    "\n",
    "\n",
    "\n",
    "\n",
    "\n",
    "\n",
    "\n",
    "\n",
    "\n",
    "\n",
    "\n",
    "\n",
    "\n",
    "\n",
    "\n",
    "\n",
    "\n",
    "\n",
    "\n",
    "\n",
    "\n",
    "\n",
    "\n",
    "\n",
    "\n",
    "\n",
    "\n",
    "\n",
    "\n",
    "\n",
    "\n",
    "\n",
    "\n",
    "\n",
    "\n",
    "\n",
    "\n",
    "\n",
    "\n",
    "\n",
    "\n",
    "\n",
    "\n",
    "\n",
    "\n",
    "\n",
    "\n",
    "\n",
    "\n",
    "\n",
    "\n",
    "\n",
    "\n",
    "\n",
    "\n",
    "\n",
    "\n",
    "\n",
    "\n",
    "\n",
    "\n",
    "\n",
    "\n",
    "\n",
    "\n",
    "\n",
    "\n",
    "\n",
    "\n",
    "\n",
    "\n",
    "\n",
    "\n",
    "\n",
    "\n",
    "\n",
    "\n",
    "\n",
    "\n",
    "\n",
    "\n",
    "\n",
    "\n",
    "\n",
    "\n",
    "\n",
    "\n",
    "\n",
    "\n",
    "\n",
    "\n",
    "\n",
    "\n",
    "\n",
    "\n",
    "\n",
    "\n",
    "\n",
    "\n",
    "\n",
    "\n",
    "\n",
    "\n",
    "\n",
    "\n",
    "\n",
    "\n",
    "\n",
    "\n",
    "\n",
    "\n",
    "\n",
    "\n",
    "\n",
    "\n",
    "\n",
    "\n",
    "\n",
    "\n",
    "\n",
    "\n",
    "\n",
    "\n",
    "\n",
    "\n",
    "\n",
    "\n",
    "\n",
    "\n",
    "\n",
    "\n",
    "\n",
    "\n",
    "\n",
    "\n",
    "\n",
    "\n",
    "\n",
    "\n",
    "\n",
    "\n",
    "\n",
    "\n",
    "\n",
    "\n",
    "\n",
    "\n",
    "\n",
    "\n",
    "\n",
    "\n",
    "\n",
    "\n",
    "\n",
    "\n",
    "\n",
    "\n",
    "\n",
    "\n",
    "\n",
    "\n",
    "\n",
    "\n",
    "\n",
    "\n",
    "\n",
    "\n",
    "\n",
    "\n",
    "\n",
    "\n",
    "\n",
    "\n",
    "\n",
    "\n",
    "\n",
    "\n",
    "\n",
    "\n",
    "\n",
    "\n",
    "\n",
    "\n",
    "\n",
    "\n",
    "\n",
    "\n",
    "\n",
    "\n",
    "\n",
    "\n",
    "\n",
    "\n",
    "\n",
    "\n",
    "\n",
    "\n",
    "\n",
    "\n",
    "\n",
    "\n",
    "\n",
    "\n",
    "\n",
    "\n",
    "\n",
    "\n",
    "\n",
    "\n",
    "\n",
    "\n",
    "\n",
    "\n",
    "\n",
    "\n",
    "\n",
    "\n",
    "\n",
    "\n",
    "\n",
    "\n",
    "\n",
    "\n",
    "\n",
    "\n",
    "\n",
    "\n",
    "\n",
    "\n",
    "\n",
    "\n",
    "\n",
    "\n",
    "\n",
    "\n",
    "\n",
    "\n",
    "\n",
    "\n",
    "\n",
    "\n",
    "\n",
    "\n",
    "\n",
    "\n",
    "\n",
    "\n",
    "\n",
    "\n",
    "\n",
    "\n",
    "\n",
    "\n",
    "\n",
    "\n",
    "\n",
    "\n",
    "\n",
    "\n",
    "\n",
    "\n",
    "\n",
    "\n",
    "\n",
    "\n",
    "\n",
    "\n",
    "\n",
    "\n",
    "\n",
    "\n",
    "\n",
    "\n",
    "\n",
    "\n",
    "\n",
    "\n",
    "\n",
    "\n",
    "\n",
    "\n",
    "\n",
    "\n",
    "\n",
    "\n",
    "\n",
    "\n",
    "\n",
    "\n",
    "\n",
    "\n",
    "\n",
    "\n",
    "\n",
    "\n",
    "\n",
    "\n",
    "\n",
    "\n",
    "\n",
    "\n",
    "\n",
    "\n",
    "\n",
    "\n",
    "\n",
    "\n",
    "\n",
    "\n",
    "\n",
    "\n",
    "\n",
    "\n",
    "\n",
    "\n",
    "\n",
    "\n",
    "\n",
    "\n",
    "\n",
    "\n",
    "\n",
    "\n",
    "\n",
    "\n",
    "\n",
    "\n",
    "\n",
    "\n",
    "\n",
    "\n",
    "\n",
    "\n",
    "\n",
    "\n",
    "\n",
    "\n",
    "\n",
    "\n",
    "\n",
    "\n",
    "\n",
    "\n",
    "\n",
    "\n",
    "\n",
    "\n",
    "\n",
    "\n",
    "\n",
    "\n",
    "\n",
    "\n",
    "\n",
    "\n",
    "\n",
    "\n",
    "\n",
    "\n",
    "\n",
    "\n",
    "\n",
    "\n",
    "\n",
    "\n",
    "\n",
    "\n",
    "\n",
    "\n",
    "\n",
    "\n",
    "\n",
    "\n",
    "\n",
    "\n",
    "\n",
    "\n",
    "\n",
    "\n",
    "\n",
    "\n",
    "\n",
    "\n",
    "\n",
    "\n",
    "\n",
    "\n",
    "\n",
    "\n",
    "\n",
    "\n",
    "\n",
    "\n",
    "\n",
    "\n",
    "\n",
    "\n",
    "\n",
    "\n",
    "\n",
    "\n",
    "\n",
    "\n",
    "\n",
    "\n",
    "\n",
    "\n",
    "\n",
    "\n",
    "\n",
    "\n",
    "\n",
    "\n",
    "\n",
    "\n",
    "\n",
    "\n",
    "\n",
    "\n",
    "\n",
    "\n",
    "\n",
    "\n",
    "\n",
    "\n",
    "\n",
    "\n",
    "\n",
    "\n",
    "\n",
    "\n",
    "\n",
    "\n",
    "\n",
    "\n",
    "\n",
    "\n",
    "\n",
    "\n",
    "\n",
    "\n",
    "\n",
    "\n",
    "\n",
    "\n",
    "\n",
    "\n",
    "\n",
    "\n",
    "\n",
    "\n",
    "\n",
    "\n",
    "\n",
    "\n",
    "\n",
    "\n",
    "\n",
    "\n",
    "\n",
    "\n",
    "\n",
    "\n",
    "\n",
    "\n",
    "\n",
    "\n",
    "\n",
    "\n",
    "\n",
    "\n",
    "\n",
    "\n",
    "\n",
    "\n",
    "\n",
    "\n",
    "\n",
    "\n",
    "\n",
    "\n",
    "\n",
    "\n",
    "\n",
    "\n",
    "\n",
    "\n",
    "\n",
    "\n",
    "\n",
    "\n",
    "\n",
    "\n",
    "\n",
    "\n",
    "\n",
    "\n",
    "\n",
    "\n",
    "\n",
    "\n",
    "\n",
    "\n",
    "\n",
    "\n",
    "\n",
    "\n",
    "\n",
    "\n",
    "\n",
    "\n",
    "\n",
    "\n",
    "\n",
    "\n",
    "\n",
    "\n",
    "\n",
    "\n",
    "\n",
    "\n",
    "\n",
    "\n",
    "\n",
    "\n",
    "\n",
    "\n",
    "\n",
    "\n",
    "\n",
    "\n",
    "\n",
    "\n",
    "\n",
    "\n",
    "\n",
    "\n",
    "\n",
    "\n",
    "\n",
    "\n",
    "\n",
    "\n",
    "\n",
    "\n",
    "\n",
    "\n",
    "\n",
    "\n",
    "\n",
    "\n",
    "\n",
    "\n",
    "\n",
    "\n",
    "\n",
    "\n",
    "\n",
    "\n",
    "\n",
    "\n",
    "\n",
    "\n",
    "\n",
    "\n",
    "\n",
    "\n",
    "\n",
    "\n",
    "\n",
    "\n",
    "\n",
    "\n",
    "\n",
    "\n",
    "\n",
    "\n",
    "\n",
    "\n",
    "\n",
    "\n",
    "\n",
    "\n",
    "\n",
    "\n",
    "\n",
    "\n",
    "\n",
    "\n",
    "\n",
    "\n",
    "\n",
    "\n",
    "\n",
    "\n",
    "\n",
    "\n",
    "\n",
    "\n",
    "\n",
    "\n",
    "\n",
    "\n",
    "\n",
    "\n",
    "\n",
    "\n",
    "\n",
    "\n",
    "\n",
    "\n",
    "\n",
    "\n",
    "\n",
    "\n",
    "\n",
    "\n",
    "\n",
    "\n",
    "\n",
    "\n",
    "\n",
    "\n",
    "\n",
    "\n",
    "\n",
    "\n",
    "\n",
    "\n",
    "\n",
    "\n",
    "\n",
    "\n",
    "\n",
    "\n",
    "\n",
    "\n",
    "\n",
    "\n",
    "\n",
    "\n",
    "\n",
    "\n",
    "\n",
    "\n",
    "\n",
    "\n",
    "\n",
    "\n",
    "\n",
    "\n",
    "\n",
    "\n",
    "\n",
    "\n",
    "\n",
    "\n",
    "\n",
    "\n",
    "\n",
    "\n",
    "\n",
    "\n",
    "\n",
    "\n",
    "\n",
    "\n",
    "\n",
    "\n",
    "\n",
    "\n",
    "\n",
    "\n",
    "\n",
    "\n",
    "\n",
    "\n",
    "\n",
    "\n",
    "\n",
    "\n",
    "\n",
    "\n",
    "\n",
    "\n",
    "\n",
    "\n",
    "\n",
    "\n",
    "\n",
    "\n",
    "\n",
    "\n",
    "\n",
    "\n",
    "\n",
    "\n",
    "\n",
    "\n",
    "\n",
    "\n",
    "\n",
    "\n",
    "\n",
    "\n",
    "\n",
    "\n",
    "\n",
    "\n",
    "\n",
    "\n",
    "\n",
    "\n",
    "\n",
    "\n",
    "\n",
    "\n",
    "\n",
    "\n",
    "\n",
    "\n",
    "\n",
    "\n",
    "\n",
    "\n",
    "\n",
    "\n",
    "\n",
    "\n",
    "\n",
    "\n",
    "\n",
    "\n",
    "\n",
    "\n",
    "\n",
    "\n",
    "\n",
    "\n",
    "\n",
    "\n",
    "\n",
    "\n",
    "\n",
    "\n",
    "\n",
    "\n",
    "\n",
    "\n",
    "\n",
    "\n",
    "\n",
    "\n",
    "\n",
    "\n",
    "\n",
    "\n",
    "\n",
    "\n",
    "\n",
    "\n",
    "\n",
    "\n",
    "\n",
    "\n",
    "\n",
    "\n",
    "\n",
    "\n",
    "\n",
    "\n",
    "\n",
    "\n",
    "\n",
    "\n",
    "\n",
    "\n",
    "\n",
    "\n",
    "\n",
    "\n",
    "\n",
    "\n",
    "\n",
    "\n",
    "\n",
    "\n",
    "\n",
    "\n",
    "\n",
    "\n",
    "\n",
    "\n",
    "\n",
    "\n",
    "\n",
    "\n",
    "\n",
    "\n",
    "\n",
    "\n",
    "\n",
    "\n",
    "\n",
    "\n",
    "\n",
    "\n",
    "\n",
    "\n",
    "\n",
    "\n",
    "\n",
    "\n",
    "\n",
    "\n",
    "\n",
    "\n",
    "\n",
    "\n",
    "\n",
    "\n",
    "\n",
    "\n",
    "\n",
    "\n",
    "\n",
    "\n",
    "\n",
    "\n",
    "\n",
    "\n",
    "\n",
    "\n",
    "\n",
    "\n",
    "\n",
    "\n",
    "\n",
    "\n",
    "\n",
    "\n",
    "\n",
    "\n",
    "\n",
    "\n",
    "\n",
    "\n",
    "\n",
    "\n",
    "\n",
    "\n",
    "\n",
    "\n",
    "\n",
    "\n",
    "\n",
    "\n",
    "\n",
    "\n",
    "\n",
    "\n",
    "\n",
    "\n",
    "\n",
    "\n",
    "\n",
    "\n",
    "\n",
    "\n",
    "\n",
    "\n",
    "\n",
    "\n",
    "\n",
    "\n",
    "\n",
    "\n",
    "\n",
    "\n",
    "\n",
    "\n",
    "\n",
    "\n",
    "\n",
    "\n",
    "\n",
    "\n",
    "\n",
    "\n",
    "\n",
    "\n",
    "\n",
    "\n",
    "\n",
    "\n",
    "\n",
    "\n",
    "\n",
    "\n",
    "\n",
    "\n",
    "\n",
    "\n",
    "\n",
    "\n",
    "\n",
    "\n",
    "\n",
    "\n",
    "\n",
    "\n",
    "\n",
    "\n",
    "\n",
    "\n",
    "\n",
    "\n",
    "\n",
    "\n",
    "\n",
    "\n",
    "\n",
    "\n",
    "\n",
    "\n",
    "\n",
    "\n",
    "\n",
    "\n",
    "\n",
    "\n",
    "\n",
    "\n",
    "\n",
    "\n",
    "\n",
    "\n",
    "\n",
    "\n",
    "\n",
    "\n",
    "\n",
    "\n",
    "\n",
    "\n",
    "\n",
    "\n",
    "\n",
    "\n",
    "\n",
    "\n",
    "\n",
    "\n",
    "\n",
    "\n",
    "\n",
    "\n",
    "\n",
    "\n",
    "\n",
    "\n",
    "\n",
    "\n",
    "\n",
    "\n",
    "\n",
    "\n",
    "\n",
    "\n",
    "\n",
    "\n",
    "\n",
    "\n",
    "\n",
    "\n",
    "\n",
    "\n",
    "\n",
    "\n",
    "\n",
    "\n",
    "\n",
    "\n",
    "\n",
    "\n",
    "\n",
    "\n",
    "\n",
    "\n",
    "\n",
    "\n",
    "\n",
    "\n",
    "\n",
    "\n",
    "\n",
    "\n",
    "\n",
    "\n",
    "\n",
    "\n",
    "\n",
    "\n",
    "\n",
    "\n",
    "\n",
    "\n",
    "\n",
    "\n",
    "\n",
    "\n",
    "\n",
    "\n",
    "\n",
    "\n",
    "\n",
    "\n",
    "\n",
    "\n",
    "\n",
    "\n",
    "\n",
    "\n",
    "\n",
    "\n",
    "\n",
    "\n",
    "\n",
    "\n",
    "\n",
    "\n",
    "\n",
    "\n",
    "\n",
    "\n",
    "\n",
    "\n",
    "\n",
    "\n",
    "\n",
    "\n",
    "\n",
    "\n",
    "\n",
    "\n",
    "\n",
    "\n",
    "\n",
    "\n",
    "\n",
    "\n",
    "\n",
    "\n",
    "\n",
    "\n",
    "\n",
    "\n",
    "\n",
    "\n",
    "\n",
    "\n",
    "\n",
    "\n",
    "\n",
    "\n",
    "\n",
    "\n",
    "\n",
    "\n",
    "\n",
    "\n",
    "\n",
    "\n",
    "\n",
    "\n",
    "\n",
    "\n",
    "\n",
    "\n",
    "\n",
    "\n",
    "\n",
    "\n",
    "\n",
    "\n",
    "\n",
    "\n",
    "\n",
    "\n",
    "\n",
    "\n",
    "\n",
    "\n",
    "\n",
    "\n",
    "\n",
    "\n",
    "\n",
    "\n",
    "\n",
    "\n",
    "\n",
    "\n",
    "\n",
    "\n",
    "\n",
    "\n",
    "\n",
    "\n",
    "\n",
    "\n",
    "\n",
    "\n",
    "\n",
    "\n",
    "\n",
    "\n",
    "\n",
    "\n",
    "\n",
    "\n",
    "\n",
    "\n",
    "\n",
    "Fin quando ci sono più articoli nella mia lista della spesa\n",
    "\n",
    "    Acquista il prossimo articolo e cancellalo dalla mia lista"
   ]
  },
  {
   "cell_type": "code",
   "execution_count": 1,
   "id": "fourth-registrar",
   "metadata": {},
   "outputs": [],
   "source": [
    "articoli = 3"
   ]
  },
  {
   "cell_type": "code",
   "execution_count": 2,
   "id": "collectible-venice",
   "metadata": {},
   "outputs": [],
   "source": [
    "while articoli <= 50:\n",
    "    articoli = articoli * 3"
   ]
  },
  {
   "cell_type": "code",
   "execution_count": 3,
   "id": "beginning-iceland",
   "metadata": {},
   "outputs": [
    {
     "data": {
      "text/plain": [
       "81"
      ]
     },
     "execution_count": 3,
     "metadata": {},
     "output_type": "execute_result"
    }
   ],
   "source": [
    "articoli"
   ]
  },
  {
   "cell_type": "markdown",
   "id": "strong-object",
   "metadata": {},
   "source": [
    "Qualcosa nella suite dell'istruzione `while` deve cambiare il valore degli articoli, quindi la condizione alla fine diventa `False`. In caso contrario, si verifica un errore logico denominato **ciclo infinito**. Un tale errore impedisce la terminazione dell'istruzione while."
   ]
  },
  {
   "cell_type": "markdown",
   "id": "controversial-editor",
   "metadata": {},
   "source": [
    "<center>\n",
    "<img src=\"img/flowchart_while.png\" width=\"400\">\n",
    "</center>"
   ]
  },
  {
   "cell_type": "markdown",
   "id": "amended-notion",
   "metadata": {},
   "source": [
    "### Self Check\n",
    "\n",
    "Somma i valori inseriti in input finché non viene immesso il valore $0$"
   ]
  },
  {
   "cell_type": "code",
   "execution_count": 18,
   "id": "ab211036-f232-4c99-8e4f-fd2d16cd2315",
   "metadata": {},
   "outputs": [
    {
     "name": "stdout",
     "output_type": "stream",
     "text": [
      "Somma: 6\n"
     ]
    }
   ],
   "source": [
    "somma = 0\n",
    "valore = int(input('Inserisci valore: '))\n",
    "\n",
    "while valore != 0:\n",
    "    somma = somma + valore\n",
    "    valore = int(input('Inserisci valore: '))\n",
    "    \n",
    "print('Somma:',somma)"
   ]
  },
  {
   "cell_type": "markdown",
   "id": "8e51f9fa",
   "metadata": {},
   "source": []
  },
  {
   "cell_type": "markdown",
   "id": "hourly-blood",
   "metadata": {},
   "source": [
    "## Istruzione `for`"
   ]
  },
  {
   "cell_type": "markdown",
   "id": "downtown-assignment",
   "metadata": {},
   "source": [
    "L'istruzione `for` esegue le sue azioni per ogni elemento in una sequenza di elementi."
   ]
  },
  {
   "cell_type": "code",
   "execution_count": null,
   "id": "rocky-parts",
   "metadata": {},
   "outputs": [],
   "source": [
    "for carattere in 'Programmazione':\n",
    "    print(carattere, end='*')"
   ]
  },
  {
   "cell_type": "markdown",
   "id": "removable-consumer",
   "metadata": {},
   "source": [
    "<center>\n",
    "<img src=\"img/flowchart_for.png\" width=\"400\">\n",
    "</center>"
   ]
  },
  {
   "cell_type": "markdown",
   "id": "interim-balance",
   "metadata": {},
   "source": [
    "## Iterabili, Liste ed Iteratori"
   ]
  },
  {
   "cell_type": "markdown",
   "id": "pending-lotus",
   "metadata": {},
   "source": [
    "La sequenza a destra della parola chiave `in` dell'istruzione `for` deve essere un iterabile.\n",
    "\n",
    "Un iterabile è un oggetto da cui l'istruzione `for` può prendere un elemento alla volta fino a quando non rimangono più elementi.\n",
    "\n",
    "Python ha altri tipi di sequenza iterabili oltre alle stringhe. Uno dei più comuni è una **lista**, che è una raccolta di elementi separati da virgole racchiusi tra parentesi quadre `[` e `]`."
   ]
  },
  {
   "cell_type": "code",
   "execution_count": 4,
   "id": "august-mustang",
   "metadata": {},
   "outputs": [],
   "source": [
    "totale = 0\n",
    "\n",
    "for numero in [2, -3, 0, 17, 9]:\n",
    "    totale = totale + numero"
   ]
  },
  {
   "cell_type": "code",
   "execution_count": 5,
   "id": "asian-ranking",
   "metadata": {},
   "outputs": [
    {
     "data": {
      "text/plain": [
       "25"
      ]
     },
     "execution_count": 5,
     "metadata": {},
     "output_type": "execute_result"
    }
   ],
   "source": [
    "totale"
   ]
  },
  {
   "cell_type": "markdown",
   "id": "several-slovakia",
   "metadata": {},
   "source": [
    "### Funzione `range`"
   ]
  },
  {
   "cell_type": "code",
   "execution_count": 22,
   "id": "exposed-touch",
   "metadata": {},
   "outputs": [
    {
     "name": "stdout",
     "output_type": "stream",
     "text": [
      "0-1-2-3-4-5-6-7-8-9-"
     ]
    }
   ],
   "source": [
    "for contatore in range(10):\n",
    "    print(contatore, end='-')"
   ]
  },
  {
   "cell_type": "markdown",
   "id": "analyzed-situation",
   "metadata": {},
   "source": [
    "### Errore Off-By-One\n",
    "\n",
    "Un errore logico conosciuto come *off-by-one* si verifica quando si presume che il valore dell'argomento dell'intervallo sia incluso nella sequenza generata."
   ]
  },
  {
   "cell_type": "markdown",
   "id": "massive-attendance",
   "metadata": {},
   "source": [
    "### Self Check\n",
    "\n",
    "Usa la funzione `range` e una istruzione `for` per calcolare la somma totale dei numeri interi che vanno da $0$ a $10000$"
   ]
  },
  {
   "cell_type": "code",
   "execution_count": 23,
   "id": "essential-appointment",
   "metadata": {},
   "outputs": [],
   "source": [
    "totale = 0\n",
    "\n",
    "for numero in range(10001):\n",
    "    totale = totale + numero"
   ]
  },
  {
   "cell_type": "code",
   "execution_count": 24,
   "id": "presidential-cathedral",
   "metadata": {},
   "outputs": [
    {
     "data": {
      "text/plain": [
       "50005000"
      ]
     },
     "execution_count": 24,
     "metadata": {},
     "output_type": "execute_result"
    }
   ],
   "source": [
    "totale"
   ]
  },
  {
   "cell_type": "code",
   "execution_count": 31,
   "id": "93e4c95a",
   "metadata": {},
   "outputs": [
    {
     "data": {
      "text/plain": [
       "25005000"
      ]
     },
     "execution_count": 31,
     "metadata": {},
     "output_type": "execute_result"
    }
   ],
   "source": [
    "totale = 0\n",
    "\n",
    "for numero in range(0, 10001, 2):\n",
    "    totale = totale + numero\n",
    "\n",
    "totale"
   ]
  },
  {
   "cell_type": "markdown",
   "id": "gothic-trigger",
   "metadata": {},
   "source": [
    "### Assegnazioni aumentate\n",
    "\n",
    "Le assegnazioni aumentate abbreviano le espressioni di assegnazione in cui lo stesso nome di variabile appare sulla sinistra e sulla destra dell'operatore di assegnazione `=`"
   ]
  },
  {
   "cell_type": "code",
   "execution_count": null,
   "id": "considerable-preview",
   "metadata": {},
   "outputs": [],
   "source": [
    "totale = 0\n",
    "for numero in [1, 2, 3, 4, 5]:\n",
    "    totale += numero  # aggiunge numero a totale e memorizza in variabile totale"
   ]
  },
  {
   "cell_type": "markdown",
   "id": "impressed-efficiency",
   "metadata": {},
   "source": [
    "## Sviluppo di un programma: ripetizione controllata dalla sequenza"
   ]
  },
  {
   "cell_type": "markdown",
   "id": "environmental-premises",
   "metadata": {},
   "source": [
    "La parte più impegnativa della risoluzione di un problema su un computer è lo sviluppo di un *algoritmo* per la soluzione. Una volta specificato un algoritmo corretto, la creazione di un programma Python funzionante dall'algoritmo è in genere semplice."
   ]
  },
  {
   "cell_type": "markdown",
   "id": "successful-apollo",
   "metadata": {},
   "source": [
    "### Dichiarazione dei requisiti\n",
    "\n",
    "Una dichiarazione dei requisiti descrive *cosa* dovrebbe fare un programma, ma non *come* dovrebbe farlo.\n",
    "\n",
    "    Una classe di 10 studenti partecipa ad un quiz. \n",
    "    I loro voti (numeri interi nell intervallo 0-100) sono 98, 76, 71, 87, 83, 90, 57, 79, 82, 94.\n",
    "    Determinare la media della classe sul quiz."
   ]
  },
  {
   "cell_type": "markdown",
   "id": "considered-bulgarian",
   "metadata": {},
   "source": [
    "L'algoritmo per risolvere questo problema deve:\n",
    "1. tenere un totale parziale dei voti\n",
    "2. calcolare la media, ovvero il totale dei voti diviso per il numero dei voti\n",
    "3. visualizzare il risultato"
   ]
  },
  {
   "cell_type": "markdown",
   "id": "sacred-afghanistan",
   "metadata": {},
   "source": [
    "#### Pseudocodice per l'algoritmo\n",
    "\n",
    "    Imposta il totale a zero\n",
    "    \n",
    "    Imposta il contatore del voto a zero\n",
    "    \n",
    "    Imposta i voti su un elenco dei dieci voti\n",
    "    \n",
    "    Per ogni voto nella lista dei voti:\n",
    "        Aggiungi il voto al totale\n",
    "        Aggiungi 1 al contatore del voto\n",
    "       \n",
    "    Imposta la media della classe al totale diviso dal numero dei voti\n",
    "    \n",
    "    Visualizza la media della classe"
   ]
  },
  {
   "cell_type": "code",
   "execution_count": null,
   "id": "dietary-indication",
   "metadata": {},
   "outputs": [],
   "source": [
    "\"\"\"\n",
    "Programma che calcola la media della classe \n",
    "con ripetzione controllata da sequenza\n",
    "\"\"\"\n",
    "\n",
    "# Fase di inizializzazione\n",
    "totale = 0\n",
    "contatore_voto = 0\n",
    "voti = [98, 76, 71, 87, 83, 90, 57, 79, 82, 94]\n",
    "\n",
    "# Fase di elaborazione\n",
    "for voto in voti:\n",
    "    totale += voto  # aggiunge il voto corrente al totale parziale\n",
    "    contatore_voto += 1\n",
    "    \n",
    "media = totale / contatore_voto\n",
    "\n",
    "# Fase di terminazione\n",
    "print(f'La media della classe è {media}')"
   ]
  },
  {
   "cell_type": "markdown",
   "id": "touched-antique",
   "metadata": {},
   "source": [
    "Fase di **esecuzione**:\n",
    "1. La fase di inizializzazone crea le variabili necessarie per elaborare i voti e impostare queste variabili ad un valore iniziale appropriato.\n",
    "2. La fase di elaborazione procecssa i voti, calcolando il totale parziale e contando il numero dei voti elaborati fino ad allora.\n",
    "3. La fase di terminazione calcola e visualizza la media della classe."
   ]
  },
  {
   "cell_type": "markdown",
   "id": "animal-bottle",
   "metadata": {},
   "source": [
    "## Sviluppo di un programma: ripetizione controllata da una Sentinella"
   ]
  },
  {
   "cell_type": "markdown",
   "id": "advised-renewal",
   "metadata": {},
   "source": [
    "    Sviluppare un programma di media di classe che elabori un numero arbitrario di voti ogni volta che il programma viene eseguito.\n",
    "    \n",
    "In che modo il programma può determinare quando interrompere l'elaborazione dei voti in modo che possa passare al calcolo e alla visualizzazione della media della classe?\n",
    "\n",
    "Un modo per risolvere questo problema è utilizzare un valore speciale chiamato valore **sentinella** (chiamato anche valore **flag**) per indicare la \"fine dell'inserimento dei dati\".\n",
    "\n",
    "La ripetizione controllata da sentinella è spesso chiamata **ripetizione indefinita** perché il numero di ripetizioni non è noto prima che il ciclo inizi l'esecuzione.\n",
    "\n",
    "#### Un valore sentinella non deve essere confuso con un qualunque valore accettabile in input"
   ]
  },
  {
   "cell_type": "markdown",
   "id": "suited-american",
   "metadata": {},
   "source": [
    "#### Pseudocodice per l'algoritmo\n",
    "\n",
    "    Inizializza il totale a zero\n",
    "    \n",
    "    Inizializza il contatore del voto a zero\n",
    "    \n",
    "    Inserisci il primo voto (può essere un valore sentinella)\n",
    "    \n",
    "    Fin quando l'utente non inserisce il valore sentinella:\n",
    "        Aggiungi il voto al totale parziale\n",
    "        Aggiungi 1 al contatore dei voti\n",
    "        Inserisci il voto successivo (può essere il valore sentinella)\n",
    "        \n",
    "    Se il contatore del voto non è uguale a zero\n",
    "        Imposta la media della classe al totale diviso dal contatore dei voti    \n",
    "        Visualizza la media della classe\n",
    "    Altrimenti\n",
    "        Visualizza \"Non è stato inserito alcun voto\""
   ]
  },
  {
   "cell_type": "code",
   "execution_count": 3,
   "id": "afraid-touch",
   "metadata": {},
   "outputs": [
    {
     "name": "stdout",
     "output_type": "stream",
     "text": [
      "La media della classe è 1.50\n"
     ]
    }
   ],
   "source": [
    "\"\"\"\n",
    "Programma che calcola la media della classe \n",
    "con ripetzione controllata da sentinella\n",
    "\"\"\"\n",
    "\n",
    "# Fase di inizializzazione\n",
    "totale = 0\n",
    "contatore_voto = 0\n",
    "\n",
    "# Fase di elaborazione\n",
    "voto = int(input('Inserisci voto, -1 per terminare: '))\n",
    "\n",
    "while voto != -1:\n",
    "    totale += voto\n",
    "    contatore_voto += 1\n",
    "    voto = int(input('Inserisci voto, -1 per terminare: '))\n",
    "    \n",
    "# Fase di terminazione\n",
    "if contatore_voto != 0:\n",
    "    media = totale / contatore_voto\n",
    "    print(f'La media della classe è {media:.2f}')\n",
    "else:\n",
    "    print('Non è stato inserito alcun voto.')"
   ]
  },
  {
   "cell_type": "markdown",
   "id": "corrected-communist",
   "metadata": {},
   "source": [
    "### Self Check\n",
    "\n",
    "Utilizzare un'istruzione `for` per immettere due numeri interi. Utilizzare un'istruzione `if ... else` *annidata* per visualizzare se ogni valore è pari o dispari. Immettere $10$ e $7$ per testare il codice."
   ]
  },
  {
   "cell_type": "code",
   "execution_count": null,
   "id": "collaborative-meditation",
   "metadata": {},
   "outputs": [],
   "source": [
    "for contatore in range(2):\n",
    "    valore = int(input('Inserisci un numero intero: '))\n",
    "    if valore % 2 == 0:\n",
    "        print(f'{valore} è pari')\n",
    "    else:\n",
    "        print(f'{valore} è dispari')"
   ]
  },
  {
   "cell_type": "markdown",
   "id": "induced-lecture",
   "metadata": {},
   "source": [
    "## Operatori Booleani"
   ]
  },
  {
   "cell_type": "markdown",
   "id": "selective-atlas",
   "metadata": {},
   "source": [
    "### Operatore Booleano `and`"
   ]
  },
  {
   "cell_type": "code",
   "execution_count": null,
   "id": "limited-spelling",
   "metadata": {},
   "outputs": [],
   "source": [
    "azienda = \"Google\"\n",
    "costo_azioni = 25\n",
    "\n",
    "if azienda == \"Google\" and costo_azioni <= 50:\n",
    "    print('Compra azioni Google')"
   ]
  },
  {
   "cell_type": "markdown",
   "id": "ruled-recycling",
   "metadata": {},
   "source": [
    "<center>\n",
    "<img src=\"img/table_and.png\" width=\"400\">\n",
    "</center>"
   ]
  },
  {
   "cell_type": "markdown",
   "id": "figured-timber",
   "metadata": {},
   "source": [
    "### Operatore Booleano `or`"
   ]
  },
  {
   "cell_type": "code",
   "execution_count": null,
   "id": "automotive-creation",
   "metadata": {},
   "outputs": [],
   "source": [
    "media_semestre = 83\n",
    "esame_finale = 95\n",
    "\n",
    "if media_semestre >= 90 or esame_finale >= 90:\n",
    "    print('Lo studente prende voto: Ottimo')"
   ]
  },
  {
   "cell_type": "markdown",
   "id": "alleged-failure",
   "metadata": {},
   "source": [
    "<center>\n",
    "<img src=\"img/table_or.png\" width=\"400\">\n",
    "</center>"
   ]
  },
  {
   "cell_type": "markdown",
   "id": "liquid-huntington",
   "metadata": {},
   "source": [
    "### Operatore Booleano `not`"
   ]
  },
  {
   "cell_type": "code",
   "execution_count": 9,
   "id": "confirmed-italy",
   "metadata": {},
   "outputs": [],
   "source": [
    "voto = 87\n"
   ]
  },
  {
   "cell_type": "code",
   "execution_count": 10,
   "id": "nearby-colleague",
   "metadata": {},
   "outputs": [
    {
     "name": "stdout",
     "output_type": "stream",
     "text": [
      "Il prossimo voto è:  87\n"
     ]
    }
   ],
   "source": [
    "if not voto == -1:\n",
    "    print('Il prossimo voto è: ',voto)"
   ]
  },
  {
   "cell_type": "code",
   "execution_count": 11,
   "id": "growing-sarah",
   "metadata": {},
   "outputs": [
    {
     "name": "stdout",
     "output_type": "stream",
     "text": [
      "Il prossimo voto è:  87\n"
     ]
    }
   ],
   "source": [
    "if voto != -1:\n",
    "    print('Il prossimo voto è: ',voto)"
   ]
  },
  {
   "cell_type": "markdown",
   "id": "removable-sierra",
   "metadata": {},
   "source": [
    "<center>\n",
    "<img src=\"img/table_not.png\" width=\"400\">\n",
    "</center>"
   ]
  },
  {
   "cell_type": "markdown",
   "id": "7d93c589-da0a-4c49-829f-b56f69cec2bf",
   "metadata": {},
   "source": [
    "## Funzioni\n",
    "\n",
    "Il modo migliore per sviluppare software è costruirlo da pezzi più piccoli e più gestibili: **divide et impera**\n",
    "\n",
    "L'utilizzo delle funzioni esistenti come elementi costitutivi per la creazione di nuovi programmi è un aspetto chiave della **riutilizzabilità del software**.\n",
    "\n",
    "Il pacchetto del codice come funzione consente di eseguirlo da varie posizioni nel \n",
    "programma.\n",
    "\n",
    "Ciò rende anche i programmi più facili da modificare: quando si modifica il codice di una funzione, tutte le chiamate alla funzione eseguono la versione aggiornata."
   ]
  },
  {
   "cell_type": "markdown",
   "id": "f27b8dc5-0b1a-4550-a380-617ffb5eb19a",
   "metadata": {},
   "source": [
    "### Definire Funzioni"
   ]
  },
  {
   "cell_type": "code",
   "execution_count": 54,
   "id": "143a3e2f",
   "metadata": {},
   "outputs": [
    {
     "data": {
      "text/plain": [
       "'\\nCommento\\nmultilinea\\n'"
      ]
     },
     "execution_count": 54,
     "metadata": {},
     "output_type": "execute_result"
    }
   ],
   "source": [
    "# commento su una riga\n",
    "# seconda riga di commento\n",
    "# posso continuare così?\n",
    "\n",
    "'''\n",
    "Commento\n",
    "multilinea\n",
    "'''"
   ]
  },
  {
   "cell_type": "code",
   "execution_count": 12,
   "id": "de078783-c246-4f90-8f5f-5cc2390687be",
   "metadata": {},
   "outputs": [],
   "source": [
    "def quadrato(numero):\n",
    "    \"\"\"Calcola il quadrato di un numero.\"\"\"\n",
    "    return numero ** 2"
   ]
  },
  {
   "cell_type": "code",
   "execution_count": 13,
   "id": "7fc0149d-68e6-4f45-8400-36311abb0fd1",
   "metadata": {},
   "outputs": [
    {
     "data": {
      "text/plain": [
       "49"
      ]
     },
     "execution_count": 13,
     "metadata": {},
     "output_type": "execute_result"
    }
   ],
   "source": [
    "quadrato(7)"
   ]
  },
  {
   "cell_type": "code",
   "execution_count": 14,
   "id": "0ff64842-b061-487d-8b5d-469babc96124",
   "metadata": {},
   "outputs": [
    {
     "data": {
      "text/plain": [
       "6.25"
      ]
     },
     "execution_count": 14,
     "metadata": {},
     "output_type": "execute_result"
    }
   ],
   "source": [
    "quadrato (2.5)"
   ]
  },
  {
   "cell_type": "markdown",
   "id": "b8e56143-7f69-4f43-9f76-760f362799e9",
   "metadata": {},
   "source": [
    "### Restituzione di un risultato al chiamante di una funzione"
   ]
  },
  {
   "cell_type": "code",
   "execution_count": 15,
   "id": "ada1b9d1-1cc7-494c-9ffc-a82e13b92d44",
   "metadata": {},
   "outputs": [
    {
     "name": "stdout",
     "output_type": "stream",
     "text": [
      "Il quadrato di 7 è 49\n"
     ]
    }
   ],
   "source": [
    "print('Il quadrato di 7 è', quadrato(7))"
   ]
  },
  {
   "cell_type": "markdown",
   "id": "8367f73e-290d-43e9-88be-a64592dd52b1",
   "metadata": {},
   "source": [
    "Altri modi per restituire il controllo da una funzione al suo chiamante:\n",
    "\n",
    "1. `return` (senza un'espressione) termina la funzione e restituisce implicitamente il valore `None` al chiamante.\n",
    "\n",
    "2. Quando non c'è un'istruzione return in una funzione, restituisce implicitamente il valore `None`"
   ]
  },
  {
   "cell_type": "markdown",
   "id": "d2747fe9",
   "metadata": {},
   "source": [
    "### Self Check\n",
    "Trasformare il Programma somma di due numeri in una funzione."
   ]
  },
  {
   "cell_type": "code",
   "execution_count": 8,
   "id": "41d86bad",
   "metadata": {},
   "outputs": [
    {
     "name": "stdout",
     "output_type": "stream",
     "text": [
      "3\n",
      "{'a': <class 'int'>, 'b': <class 'int'>, 'return': <class 'int'>}\n"
     ]
    }
   ],
   "source": [
    "# definizione di funzione con annotazioni sui tipi di parametri in input e output\n",
    "def somma_di_due_numeri(a: int,b: int) -> int:\n",
    "    return a+b\n",
    "\n",
    "# chiamata alla funzione\n",
    "somma_di_numeri = somma_di_due_numeri(1,2)\n",
    "print(somma_di_numeri)\n",
    "print(somma_di_due_numeri.__annotations__)"
   ]
  },
  {
   "cell_type": "markdown",
   "id": "05dc343b",
   "metadata": {},
   "source": [
    "### Self Check1\n",
    "Trasformare il Programma che calcola la media della classe in una funzione."
   ]
  },
  {
   "cell_type": "code",
   "execution_count": 60,
   "id": "174ba76f",
   "metadata": {},
   "outputs": [],
   "source": [
    "# definizione di funzione con annotazioni sui tipi di parametri in input e output\n",
    "def calcolo_media(lista_voti: list) -> int:\n",
    "    # Fase di inizializzazione\n",
    "    totale = 0\n",
    "    contatore_voto = 0\n",
    "\n",
    "    # Fase di elaborazione\n",
    "    for voto in voti:\n",
    "        totale += voto  # aggiunge il voto corrente al totale parziale\n",
    "        contatore_voto += 1\n",
    "    \n",
    "    media = totale / contatore_voto\n",
    "\n",
    "    return media"
   ]
  },
  {
   "cell_type": "code",
   "execution_count": 61,
   "id": "535983c9",
   "metadata": {},
   "outputs": [
    {
     "data": {
      "text/plain": [
       "81.7"
      ]
     },
     "execution_count": 61,
     "metadata": {},
     "output_type": "execute_result"
    }
   ],
   "source": [
    "voti = [98, 76, 71, 87, 83, 90, 57, 79, 82, 94]\n",
    "calcolo_media(lista_voti=voti)"
   ]
  },
  {
   "cell_type": "markdown",
   "id": "9297b3bb",
   "metadata": {},
   "source": [
    "### Self Check2\n",
    "Sviluppare una funzione che dato il nome di una città restituisca latitudine e longitudine"
   ]
  },
  {
   "cell_type": "code",
   "execution_count": 1,
   "id": "a0ea90c8",
   "metadata": {},
   "outputs": [
    {
     "ename": "ModuleNotFoundError",
     "evalue": "No module named 'geopy'",
     "output_type": "error",
     "traceback": [
      "\u001b[1;31m---------------------------------------------------------------------------\u001b[0m",
      "\u001b[1;31mModuleNotFoundError\u001b[0m                       Traceback (most recent call last)",
      "Cell \u001b[1;32mIn[1], line 1\u001b[0m\n\u001b[1;32m----> 1\u001b[0m \u001b[38;5;28;01mimport\u001b[39;00m\u001b[38;5;250m \u001b[39m\u001b[38;5;21;01mgeopy\u001b[39;00m  \n\u001b[0;32m      5\u001b[0m \u001b[38;5;28;01mdef\u001b[39;00m\u001b[38;5;250m \u001b[39m\u001b[38;5;21mgeo_city\u001b[39m(city_name: \u001b[38;5;28mstr\u001b[39m) \u001b[38;5;241m-\u001b[39m\u001b[38;5;241m>\u001b[39m \u001b[38;5;28mlist\u001b[39m:\n\u001b[0;32m      6\u001b[0m     geolocator \u001b[38;5;241m=\u001b[39m Nominatim(user_agent\u001b[38;5;241m=\u001b[39m\u001b[38;5;124m\"\u001b[39m\u001b[38;5;124mits\u001b[39m\u001b[38;5;124m\"\u001b[39m)\n",
      "\u001b[1;31mModuleNotFoundError\u001b[0m: No module named 'geopy'"
     ]
    }
   ],
   "source": [
    "import geopy  \n",
    "\n",
    "\n",
    "\n",
    "def geo_city(city_name: str) -> list:\n",
    "    geolocator = Nominatim(user_agent=\"its\")\n",
    "    location = geolocator.geocode(city_name)\n",
    "    return [location.latitude, location.longitude]\n",
    "\n",
    "\n"
   ]
  },
  {
   "cell_type": "code",
   "execution_count": 67,
   "id": "cf3d9942",
   "metadata": {},
   "outputs": [
    {
     "data": {
      "text/plain": [
       "[41.1257843, 16.8620293]"
      ]
     },
     "execution_count": 67,
     "metadata": {},
     "output_type": "execute_result"
    }
   ],
   "source": [
    "lat_long_list = geo_city(city_name = 'Bari')\n",
    "lat_long_list"
   ]
  },
  {
   "cell_type": "markdown",
   "id": "6aaaea94",
   "metadata": {},
   "source": [
    "### Self Check3\n",
    "Sviluppare una funzione che dati lat / long  visualizzi su una mappa la posizione "
   ]
  },
  {
   "cell_type": "code",
   "execution_count": 21,
   "id": "012f609f",
   "metadata": {},
   "outputs": [
    {
     "ename": "ModuleNotFoundError",
     "evalue": "No module named 'folium'",
     "output_type": "error",
     "traceback": [
      "\u001b[1;31m---------------------------------------------------------------------------\u001b[0m",
      "\u001b[1;31mModuleNotFoundError\u001b[0m                       Traceback (most recent call last)",
      "Cell \u001b[1;32mIn[21], line 1\u001b[0m\n\u001b[1;32m----> 1\u001b[0m \u001b[38;5;28;01mimport\u001b[39;00m\u001b[38;5;250m \u001b[39m\u001b[38;5;21;01mfolium\u001b[39;00m\n\u001b[0;32m      3\u001b[0m \u001b[38;5;28;01mdef\u001b[39;00m\u001b[38;5;250m \u001b[39m\u001b[38;5;21mvisualize_on_map\u001b[39m(city_name: \u001b[38;5;28mstr\u001b[39m, lat_long_list: \u001b[38;5;28mlist\u001b[39m) \u001b[38;5;241m-\u001b[39m\u001b[38;5;241m>\u001b[39m \u001b[38;5;28;01mNone\u001b[39;00m:\n\u001b[0;32m      4\u001b[0m     \u001b[38;5;28mmap\u001b[39m \u001b[38;5;241m=\u001b[39m folium\u001b[38;5;241m.\u001b[39mMap(location\u001b[38;5;241m=\u001b[39mlat_long_list, zoom_start\u001b[38;5;241m=\u001b[39m\u001b[38;5;241m13\u001b[39m)\n",
      "\u001b[1;31mModuleNotFoundError\u001b[0m: No module named 'folium'"
     ]
    }
   ],
   "source": [
    "import folium\n",
    "\n",
    "def visualize_on_map(city_name: str, lat_long_list: list) -> None:\n",
    "    map = folium.Map(location=lat_long_list, zoom_start=13)\n",
    "    folium.Marker(lat_long_list, popup=city_name).add_to(map)\n",
    "    return map"
   ]
  },
  {
   "cell_type": "code",
   "execution_count": 69,
   "id": "379a6c2c",
   "metadata": {},
   "outputs": [
    {
     "data": {
      "text/html": [
       "<div style=\"width:100%;\"><div style=\"position:relative;width:100%;height:0;padding-bottom:60%;\"><span style=\"color:#565656\">Make this Notebook Trusted to load map: File -> Trust Notebook</span><iframe srcdoc=\"&lt;!DOCTYPE html&gt;\n",
       "&lt;html&gt;\n",
       "&lt;head&gt;\n",
       "    \n",
       "    &lt;meta http-equiv=&quot;content-type&quot; content=&quot;text/html; charset=UTF-8&quot; /&gt;\n",
       "    \n",
       "        &lt;script&gt;\n",
       "            L_NO_TOUCH = false;\n",
       "            L_DISABLE_3D = false;\n",
       "        &lt;/script&gt;\n",
       "    \n",
       "    &lt;style&gt;html, body {width: 100%;height: 100%;margin: 0;padding: 0;}&lt;/style&gt;\n",
       "    &lt;style&gt;#map {position:absolute;top:0;bottom:0;right:0;left:0;}&lt;/style&gt;\n",
       "    &lt;script src=&quot;https://cdn.jsdelivr.net/npm/leaflet@1.9.3/dist/leaflet.js&quot;&gt;&lt;/script&gt;\n",
       "    &lt;script src=&quot;https://code.jquery.com/jquery-3.7.1.min.js&quot;&gt;&lt;/script&gt;\n",
       "    &lt;script src=&quot;https://cdn.jsdelivr.net/npm/bootstrap@5.2.2/dist/js/bootstrap.bundle.min.js&quot;&gt;&lt;/script&gt;\n",
       "    &lt;script src=&quot;https://cdnjs.cloudflare.com/ajax/libs/Leaflet.awesome-markers/2.0.2/leaflet.awesome-markers.js&quot;&gt;&lt;/script&gt;\n",
       "    &lt;link rel=&quot;stylesheet&quot; href=&quot;https://cdn.jsdelivr.net/npm/leaflet@1.9.3/dist/leaflet.css&quot;/&gt;\n",
       "    &lt;link rel=&quot;stylesheet&quot; href=&quot;https://cdn.jsdelivr.net/npm/bootstrap@5.2.2/dist/css/bootstrap.min.css&quot;/&gt;\n",
       "    &lt;link rel=&quot;stylesheet&quot; href=&quot;https://netdna.bootstrapcdn.com/bootstrap/3.0.0/css/bootstrap-glyphicons.css&quot;/&gt;\n",
       "    &lt;link rel=&quot;stylesheet&quot; href=&quot;https://cdn.jsdelivr.net/npm/@fortawesome/fontawesome-free@6.2.0/css/all.min.css&quot;/&gt;\n",
       "    &lt;link rel=&quot;stylesheet&quot; href=&quot;https://cdnjs.cloudflare.com/ajax/libs/Leaflet.awesome-markers/2.0.2/leaflet.awesome-markers.css&quot;/&gt;\n",
       "    &lt;link rel=&quot;stylesheet&quot; href=&quot;https://cdn.jsdelivr.net/gh/python-visualization/folium/folium/templates/leaflet.awesome.rotate.min.css&quot;/&gt;\n",
       "    \n",
       "            &lt;meta name=&quot;viewport&quot; content=&quot;width=device-width,\n",
       "                initial-scale=1.0, maximum-scale=1.0, user-scalable=no&quot; /&gt;\n",
       "            &lt;style&gt;\n",
       "                #map_120f20b0156617dc5cc206dd4264aa2a {\n",
       "                    position: relative;\n",
       "                    width: 100.0%;\n",
       "                    height: 100.0%;\n",
       "                    left: 0.0%;\n",
       "                    top: 0.0%;\n",
       "                }\n",
       "                .leaflet-container { font-size: 1rem; }\n",
       "            &lt;/style&gt;\n",
       "        \n",
       "&lt;/head&gt;\n",
       "&lt;body&gt;\n",
       "    \n",
       "    \n",
       "            &lt;div class=&quot;folium-map&quot; id=&quot;map_120f20b0156617dc5cc206dd4264aa2a&quot; &gt;&lt;/div&gt;\n",
       "        \n",
       "&lt;/body&gt;\n",
       "&lt;script&gt;\n",
       "    \n",
       "    \n",
       "            var map_120f20b0156617dc5cc206dd4264aa2a = L.map(\n",
       "                &quot;map_120f20b0156617dc5cc206dd4264aa2a&quot;,\n",
       "                {\n",
       "                    center: [41.1257843, 16.8620293],\n",
       "                    crs: L.CRS.EPSG3857,\n",
       "                    zoom: 13,\n",
       "                    zoomControl: true,\n",
       "                    preferCanvas: false,\n",
       "                }\n",
       "            );\n",
       "\n",
       "            \n",
       "\n",
       "        \n",
       "    \n",
       "            var tile_layer_d070ac609bbf35499ae3a8861f2b9587 = L.tileLayer(\n",
       "                &quot;https://tile.openstreetmap.org/{z}/{x}/{y}.png&quot;,\n",
       "                {&quot;attribution&quot;: &quot;\\u0026copy; \\u003ca href=\\&quot;https://www.openstreetmap.org/copyright\\&quot;\\u003eOpenStreetMap\\u003c/a\\u003e contributors&quot;, &quot;detectRetina&quot;: false, &quot;maxNativeZoom&quot;: 19, &quot;maxZoom&quot;: 19, &quot;minZoom&quot;: 0, &quot;noWrap&quot;: false, &quot;opacity&quot;: 1, &quot;subdomains&quot;: &quot;abc&quot;, &quot;tms&quot;: false}\n",
       "            );\n",
       "        \n",
       "    \n",
       "            tile_layer_d070ac609bbf35499ae3a8861f2b9587.addTo(map_120f20b0156617dc5cc206dd4264aa2a);\n",
       "        \n",
       "    \n",
       "            var marker_955db5b4dcbe6b8b9293b266c5d4ad23 = L.marker(\n",
       "                [41.1257843, 16.8620293],\n",
       "                {}\n",
       "            ).addTo(map_120f20b0156617dc5cc206dd4264aa2a);\n",
       "        \n",
       "    \n",
       "        var popup_46e616e93a96e750fb6677a975ac0022 = L.popup({&quot;maxWidth&quot;: &quot;100%&quot;});\n",
       "\n",
       "        \n",
       "            \n",
       "                var html_7bbaaa52a2da7136ec07cbf8345f6787 = $(`&lt;div id=&quot;html_7bbaaa52a2da7136ec07cbf8345f6787&quot; style=&quot;width: 100.0%; height: 100.0%;&quot;&gt;Bari&lt;/div&gt;`)[0];\n",
       "                popup_46e616e93a96e750fb6677a975ac0022.setContent(html_7bbaaa52a2da7136ec07cbf8345f6787);\n",
       "            \n",
       "        \n",
       "\n",
       "        marker_955db5b4dcbe6b8b9293b266c5d4ad23.bindPopup(popup_46e616e93a96e750fb6677a975ac0022)\n",
       "        ;\n",
       "\n",
       "        \n",
       "    \n",
       "&lt;/script&gt;\n",
       "&lt;/html&gt;\" style=\"position:absolute;width:100%;height:100%;left:0;top:0;border:none !important;\" allowfullscreen webkitallowfullscreen mozallowfullscreen></iframe></div></div>"
      ],
      "text/plain": [
       "<folium.folium.Map at 0x1712f781ee0>"
      ]
     },
     "execution_count": 69,
     "metadata": {},
     "output_type": "execute_result"
    }
   ],
   "source": [
    "visualize_on_map(city_name='Bari',lat_long_list=lat_long_list)"
   ]
  },
  {
   "cell_type": "markdown",
   "id": "7acd6bb4",
   "metadata": {},
   "source": [
    "Variabili locali e globali in funzioni."
   ]
  },
  {
   "cell_type": "code",
   "execution_count": 3,
   "id": "02b6efcb",
   "metadata": {},
   "outputs": [
    {
     "name": "stdout",
     "output_type": "stream",
     "text": [
      "Ciao Pino\n",
      "Ciao \n"
     ]
    }
   ],
   "source": [
    "# Variabili locali in funzioni\n",
    "def funzione_che_saluta_con_saluto_locale(nome: str) -> str:\n",
    "    saluto = 'Ciao '\n",
    "    return saluto+nome\n",
    "print(funzione_che_saluta_con_saluto_locale('Pino'))\n",
    "\n",
    "try:\n",
    "    print(saluto)\n",
    "except Exception as e:\n",
    "    print('Error:', e)"
   ]
  },
  {
   "cell_type": "code",
   "execution_count": 23,
   "id": "039c676f",
   "metadata": {},
   "outputs": [
    {
     "name": "stdout",
     "output_type": "stream",
     "text": [
      "Ciao Pino\n",
      "Ciao \n"
     ]
    }
   ],
   "source": [
    "# Variabili globali in funzioni\n",
    "def funzione_che_saluta_con_saluto_globale(nome: str) -> str:\n",
    "    global saluto_globale \n",
    "    saluto_globale = 'Ciao '\n",
    "    return saluto_globale+nome\n",
    "print(funzione_che_saluta_con_saluto_globale('Pino'))\n",
    "\n",
    "try:\n",
    "    print(saluto_globale)\n",
    "except Exception as e:\n",
    "    print('Error:', e)"
   ]
  },
  {
   "cell_type": "markdown",
   "id": "5a32d6ca",
   "metadata": {},
   "source": [
    "Funzioni con numero variabile di argomenti."
   ]
  },
  {
   "cell_type": "code",
   "execution_count": 9,
   "id": "4d225740",
   "metadata": {},
   "outputs": [
    {
     "name": "stdout",
     "output_type": "stream",
     "text": [
      "Pino ha:\n",
      "* gatto\n",
      "* cane\n",
      "* elefante\n"
     ]
    }
   ],
   "source": [
    "# Funzioni con numero variabile di parametri in input\n",
    "def stampa_animali(nome,*args):\n",
    "    print(nome + ' ha:')\n",
    "    for ele in args:\n",
    "        print('* ' + ele)\n",
    "        \n",
    "stampa_animali('Pino', 'gatto', 'cane', 'elefante')"
   ]
  },
  {
   "cell_type": "code",
   "execution_count": null,
   "id": "3975b33b",
   "metadata": {},
   "outputs": [],
   "source": [
    "# Funzioni con numero variabile di parametri in input in formato chiave valore\n",
    "def stampa_animali_chiave_valore(nome,**kargs):\n",
    "    print(nome + ' ha:')\n",
    "    for ele in kargs.keys():\n",
    "        print('* ' + ele + ' di nome ' + kargs[ele])\n",
    "        \n",
    "stampa_animali_chiave_valore('Pino', gatto='Micio', cane='Fido', elefante='Dumbo')"
   ]
  },
  {
   "cell_type": "code",
   "execution_count": null,
   "id": "8f0ecb66",
   "metadata": {},
   "outputs": [],
   "source": [
    "# Funzioni anonime: definire funzioni in un rigo\n",
    "somma_di_2_numeri = lambda a,b: a+b\n",
    "\n",
    "print(somma_di_2_numeri(1,2))"
   ]
  },
  {
   "cell_type": "markdown",
   "id": "d2572c75-c3c9-4fda-97df-3638f3cd318d",
   "metadata": {},
   "source": [
    "### Self Check\n",
    "\n",
    "Definisci una funzione `radice_quadrata` che riceve un numero come parametro e restituisce la radice quadrata di quel numero. Determina la radice quadrata di $6.25$."
   ]
  },
  {
   "cell_type": "code",
   "execution_count": null,
   "id": "1a9f9c4e-7421-43ba-af5e-d59654d42185",
   "metadata": {},
   "outputs": [],
   "source": [
    "def radice_quadrata(numero):\n",
    "    return numero ** 0.5   # oppure numero ** (1/2)"
   ]
  },
  {
   "cell_type": "code",
   "execution_count": null,
   "id": "98f395e0-6dcf-4bb5-8bc9-3b8817eca9ed",
   "metadata": {},
   "outputs": [],
   "source": [
    "radice_quadrata(6.25)"
   ]
  },
  {
   "cell_type": "markdown",
   "id": "eecbfedc-b5d0-46e7-8a65-0cc39997ae5f",
   "metadata": {},
   "source": [
    "### Funzioni con Parametri Multipli"
   ]
  },
  {
   "cell_type": "code",
   "execution_count": 97,
   "id": "823f8695",
   "metadata": {},
   "outputs": [],
   "source": [
    "def massimo(valore1, valore2, valore3):\n",
    "    \"\"\"Restituisce il massimo di 3 valori.\"\"\"\n",
    "    \n",
    "    valore_massimo = valore1\n",
    "    \n",
    "    if valore2 > valore_massimo:\n",
    "        valore_massimo = valore2\n",
    "    if valore3 > valore_massimo:\n",
    "        valore_massimo = valore3\n",
    "        \n",
    "    return valore_massimo"
   ]
  },
  {
   "cell_type": "code",
   "execution_count": 98,
   "id": "3d4c241e",
   "metadata": {},
   "outputs": [
    {
     "data": {
      "text/plain": [
       "36"
      ]
     },
     "execution_count": 98,
     "metadata": {},
     "output_type": "execute_result"
    }
   ],
   "source": [
    "massimo(12, 27, 36)"
   ]
  },
  {
   "cell_type": "code",
   "execution_count": 99,
   "id": "5bd2edd2",
   "metadata": {},
   "outputs": [
    {
     "data": {
      "text/plain": [
       "45.6"
      ]
     },
     "execution_count": 99,
     "metadata": {},
     "output_type": "execute_result"
    }
   ],
   "source": [
    "massimo(12.3, 45.6, 9.7)"
   ]
  },
  {
   "cell_type": "code",
   "execution_count": 100,
   "id": "cc4a70ab",
   "metadata": {},
   "outputs": [
    {
     "data": {
      "text/plain": [
       "'rosso'"
      ]
     },
     "execution_count": 100,
     "metadata": {},
     "output_type": "execute_result"
    }
   ],
   "source": [
    "massimo('giallo', 'rosso', 'arancione')"
   ]
  },
  {
   "cell_type": "code",
   "execution_count": 101,
   "id": "d5868b5c",
   "metadata": {},
   "outputs": [
    {
     "data": {
      "text/plain": [
       "'verde'"
      ]
     },
     "execution_count": 101,
     "metadata": {},
     "output_type": "execute_result"
    }
   ],
   "source": [
    "max('giallo','rosso', 'arancione', 'blu', 'verde')"
   ]
  },
  {
   "cell_type": "markdown",
   "id": "016b3aee",
   "metadata": {},
   "source": [
    "### Self Check\n",
    "\n",
    "Modifica la funzione precedente in modo che accetti una lista di 10000000 valori interi casuali"
   ]
  },
  {
   "cell_type": "code",
   "execution_count": 30,
   "id": "9a19527a",
   "metadata": {},
   "outputs": [],
   "source": [
    "from random import randint\n",
    "import datetime\n",
    "\n",
    "lista_numeri_casuali = []\n",
    "for x in range(0,10000000):\n",
    "  y = randint(1,45)\n",
    "  lista_numeri_casuali.append(y)"
   ]
  },
  {
   "cell_type": "code",
   "execution_count": 31,
   "id": "b0e4b907",
   "metadata": {},
   "outputs": [],
   "source": [
    "# Nicola\n",
    "def massimo_nic(val_list):\n",
    "    lista_ordinata = sorted(val_list)\n",
    "    return lista_ordinata[-1]\n",
    "\n",
    "# Domenico\n",
    "def massimo_dom(val_list):\n",
    "    return max(val_list)\n",
    "\n",
    "# Elena\n",
    "def massimo_ele(val_list):\n",
    "    valore_massimo = None\n",
    "    for val in val_list:\n",
    "        if valore_massimo is None or val > valore_massimo:\n",
    "            valore_massimo = val\n",
    "    return valore_massimo"
   ]
  },
  {
   "cell_type": "code",
   "execution_count": 32,
   "id": "426de4a8",
   "metadata": {},
   "outputs": [
    {
     "name": "stdout",
     "output_type": "stream",
     "text": [
      "45\n",
      "0:00:01.105711\n",
      "45\n",
      "0:00:00.117412\n",
      "45\n",
      "0:00:00.307448\n"
     ]
    }
   ],
   "source": [
    "start = datetime.datetime.now()\n",
    "print(massimo_nic(val_list=lista_numeri_casuali))\n",
    "print(datetime.datetime.now() - start)\n",
    "\n",
    "start = datetime.datetime.now()\n",
    "print(massimo_dom(val_list=lista_numeri_casuali))\n",
    "print(datetime.datetime.now() - start)\n",
    "\n",
    "start = datetime.datetime.now()\n",
    "print(massimo_ele(val_list=lista_numeri_casuali))\n",
    "print(datetime.datetime.now() - start)"
   ]
  },
  {
   "cell_type": "markdown",
   "id": "8a27eebd-b060-4aeb-911b-be6699ac437a",
   "metadata": {},
   "source": [
    "### Valori Parametrici di Default"
   ]
  },
  {
   "cell_type": "code",
   "execution_count": 33,
   "id": "e10c2bcc-a435-4f9b-affa-70c66b3af957",
   "metadata": {},
   "outputs": [],
   "source": [
    "def area_rettangolo(lunghezza=1, larghezza=1):\n",
    "    \"\"\"Restituisce l'area del rettangolo.\"\"\"\n",
    "    return lunghezza * larghezza"
   ]
  },
  {
   "cell_type": "code",
   "execution_count": 34,
   "id": "38b3ba54-ed1b-4ac7-ad63-09807feac827",
   "metadata": {},
   "outputs": [
    {
     "data": {
      "text/plain": [
       "1"
      ]
     },
     "execution_count": 34,
     "metadata": {},
     "output_type": "execute_result"
    }
   ],
   "source": [
    "area_rettangolo()"
   ]
  },
  {
   "cell_type": "code",
   "execution_count": 35,
   "id": "34d500d1-be9a-43e9-8b9b-86a3c88e09fc",
   "metadata": {},
   "outputs": [
    {
     "data": {
      "text/plain": [
       "10"
      ]
     },
     "execution_count": 35,
     "metadata": {},
     "output_type": "execute_result"
    }
   ],
   "source": [
    "area_rettangolo(10)"
   ]
  },
  {
   "cell_type": "code",
   "execution_count": 36,
   "id": "a07e43f0-8578-4421-8c3e-2ae5a36438a9",
   "metadata": {},
   "outputs": [
    {
     "data": {
      "text/plain": [
       "50"
      ]
     },
     "execution_count": 36,
     "metadata": {},
     "output_type": "execute_result"
    }
   ],
   "source": [
    "area_rettangolo(10, 5)"
   ]
  },
  {
   "cell_type": "markdown",
   "id": "510b9dc7-1333-4fb1-af8a-49d9b3b080f5",
   "metadata": {},
   "source": [
    "### Argomenti Keyword"
   ]
  },
  {
   "cell_type": "code",
   "execution_count": null,
   "id": "27cb6f17-8515-4a49-a81f-1a32744fb18e",
   "metadata": {},
   "outputs": [],
   "source": [
    "area_rettangolo(larghezza=15, lunghezza=3)"
   ]
  },
  {
   "cell_type": "markdown",
   "id": "623361a7-7ebc-48df-b5b6-2cbe965c15ad",
   "metadata": {},
   "source": [
    "In ogni chiamata di funzione, è necessario inserire gli argomenti keyword dopo gli argomenti posizionali di una funzione, ovvero tutti gli argomenti per i quali non si specifica il nome del parametro "
   ]
  },
  {
   "cell_type": "code",
   "execution_count": null,
   "id": "7ec97abe",
   "metadata": {},
   "outputs": [],
   "source": [
    "# definizione di funzione con annotazioni sui tipi di parametri in input e output\n",
    "def somma_di_due_numeri(a: int,b: int) -> int:\n",
    "    return a+b\n",
    "\n",
    "# chiamata alla funzione\n",
    "somma_di_numeri = somma_di_due_numeri(1,2)\n",
    "print(somma_di_numeri)\n",
    "print(somma_di_due_numeri.__annotations__)"
   ]
  },
  {
   "cell_type": "markdown",
   "id": "dc65d2d5",
   "metadata": {},
   "source": [
    "Variabili locali e globali in funzioni."
   ]
  },
  {
   "cell_type": "code",
   "execution_count": 37,
   "id": "b57be967",
   "metadata": {},
   "outputs": [
    {
     "name": "stdout",
     "output_type": "stream",
     "text": [
      "Ciao Pino\n",
      "Ciao \n"
     ]
    }
   ],
   "source": [
    "# Variabili locali in funzioni\n",
    "def funzione_che_saluta_con_saluto_locale(nome: str) -> str:\n",
    "    saluto = 'Ciao '\n",
    "    return saluto+nome\n",
    "print(funzione_che_saluta_con_saluto_locale('Pino'))\n",
    "\n",
    "try:\n",
    "    print(saluto)\n",
    "except Exception as e:\n",
    "    print('Error:', e)"
   ]
  },
  {
   "cell_type": "code",
   "execution_count": 24,
   "id": "207958ab",
   "metadata": {},
   "outputs": [
    {
     "name": "stdout",
     "output_type": "stream",
     "text": [
      "Ciao Pino\n",
      "Ciao \n"
     ]
    }
   ],
   "source": [
    "# Variabili globali in funzioni\n",
    "def funzione_che_saluta_con_saluto_globale(nome: str) -> str:\n",
    "    global saluto_globale \n",
    "    saluto_globale = 'Ciao '\n",
    "    return saluto_globale+nome\n",
    "print(funzione_che_saluta_con_saluto_globale('Pino'))\n",
    "\n",
    "try:\n",
    "    print(saluto_globale)\n",
    "except Exception as e:\n",
    "    print('Error:', e)"
   ]
  },
  {
   "cell_type": "markdown",
   "id": "6054fe34",
   "metadata": {},
   "source": [
    "Funzioni con numero variabile di argomenti."
   ]
  },
  {
   "cell_type": "code",
   "execution_count": null,
   "id": "0418ae61",
   "metadata": {},
   "outputs": [],
   "source": [
    "# Funzioni con numero variabile di parametri in input\n",
    "def stampa_animali(nome,*args):\n",
    "    print(nome + ' ha:')\n",
    "    for ele in args:\n",
    "        print('* ' + ele)\n",
    "        \n",
    "stampa_animali('Pino', 'gatto', 'cane', 'elefante')"
   ]
  },
  {
   "cell_type": "code",
   "execution_count": 38,
   "id": "6bbe5e46",
   "metadata": {},
   "outputs": [
    {
     "name": "stdout",
     "output_type": "stream",
     "text": [
      "Pino ha:\n",
      "* gatto di nome Micio\n",
      "* cane di nome Fido\n",
      "* elefante di nome Dumbo\n"
     ]
    }
   ],
   "source": [
    "# Funzioni con numero variabile di parametri in input in formato chiave valore\n",
    "def stampa_animali_chiave_valore(nome,**kargs):\n",
    "    print(nome + ' ha:')\n",
    "    for ele in kargs.keys():\n",
    "        print('* ' + ele + ' di nome ' + kargs[ele])\n",
    "        \n",
    "stampa_animali_chiave_valore('Pino', gatto='Micio', cane='Fido', elefante='Dumbo')"
   ]
  },
  {
   "cell_type": "markdown",
   "id": "b23e5962",
   "metadata": {},
   "source": [
    "### Funzioni anonime"
   ]
  },
  {
   "cell_type": "code",
   "execution_count": null,
   "id": "1aa2024f",
   "metadata": {},
   "outputs": [],
   "source": [
    "# Funzioni anonime: definire funzioni in un rigo\n",
    "somma_di_2_numeri = lambda a,b: a+b\n",
    "\n",
    "print(somma_di_2_numeri(1,2))"
   ]
  },
  {
   "cell_type": "code",
   "execution_count": null,
   "id": "0408afa8",
   "metadata": {},
   "outputs": [],
   "source": [
    "# Le funzioni lambda sono utili all'interno di altre funzioni\n",
    "def elevamento_a_potenza(n):\n",
    "    return lambda a: a**n\n",
    "\n",
    "elevamento_potenza_2 = elevamento_a_potenza(2)\n",
    "\n",
    "for i in range(0,10):\n",
    "    print(elevamento_potenza_2(i))"
   ]
  },
  {
   "cell_type": "markdown",
   "id": "a861f6b6",
   "metadata": {},
   "source": [
    "# Object Oriented Programming (OOP)\n",
    "\n",
    "La programmazione orientata agli oggetti (OOP) è un metodo per organizzare i programmi che riunisce molte delle idee introdotte in questo corso. \n",
    "\n",
    "Come le *funzioni* nell'astrazione dei dati, le classi creano barriere di **astrazione tra l'uso e l'implementazione** dei dati. \n",
    "\n",
    "Come i *dizionari*, gli oggetti rispondono alle richieste **comportamentali**. \n",
    "\n",
    "Come le *strutture dati mutabili*, gli oggetti hanno uno stato locale che **non è direttamente accessibile** dall'ambiente globale. \n",
    "\n",
    "Il sistema a oggetti di Python fornisce una sintassi conveniente per promuovere l'uso di queste tecniche per l'organizzazione dei programmi. Gran parte di questa sintassi è condivisa da altri linguaggi di programmazione orientati agli oggetti.\n",
    "\n",
    "Il sistema a oggetti offre più della semplice comodità. Consente una nuova metafora per la progettazione di programmi in cui diversi agenti indipendenti interagiscono all'interno del computer. Ogni oggetto raggruppa lo **stato** e il **comportamento** locali in un modo che astrae la complessità di entrambi. Gli oggetti comunicano tra loro e i risultati utili vengono calcolati come conseguenza della loro interazione. Non solo gli oggetti trasmettono messaggi, ma condividono anche il comportamento tra altri oggetti dello stesso tipo ed ereditano le caratteristiche dai tipi correlati.\n",
    "\n",
    "Il paradigma della programmazione orientata agli oggetti ha un proprio vocabolario che supporta la metafora dell'oggetto. Abbiamo visto che un **oggetto** è un valore di dati che ha **metodi** e **attributi**, accessibili tramite *notazione punto*. \n",
    "Ogni oggetto ha anche un *tipo*, chiamato la sua **classe**. Per creare nuovi tipi di dati, implementiamo nuove classi."
   ]
  },
  {
   "cell_type": "markdown",
   "id": "481c84a2",
   "metadata": {},
   "source": [
    "## Classi ed Oggetti\n",
    "\n",
    "Una classe funge da modello per tutti gli oggetti il cui tipo è quella classe. Ogni oggetto è un'**istanza** di una classe particolare. Gli oggetti che abbiamo usato finora hanno tutti classi incorporate, ma possono essere create anche nuove classi definite dall'utente. Una definizione di classe specifica gli attributi e i metodi condivisi tra gli oggetti di quella classe. \n",
    "\n",
    "Introdurremo l'estratto conto della classe rivisitando l'esempio di un conto bancario. I conti bancari sono modellati naturalmente come valori mutabili che hanno un equilibrio. \n",
    "\n",
    "Un oggetto conto bancario `Account` dovrebbe avere un metodo di prelievo che aggiorna il saldo del conto e restituisce l'importo richiesto, se disponibile. \n",
    "\n",
    "Per completare l'astrazione: un conto bancario dovrebbe essere in grado di restituire il suo saldo corrente, restituire il nome del titolare del conto e un importo per il deposito."
   ]
  },
  {
   "cell_type": "markdown",
   "id": "7449549c",
   "metadata": {},
   "source": [
    "#### Creare una classe\n",
    "Una Classe è come un costruttore di oggetti o un \"progetto\" per la creazione di oggetti.\n",
    "Per creare una classe in Python si utilizza il costrutto \"class\"."
   ]
  },
  {
   "cell_type": "code",
   "execution_count": 12,
   "id": "53bea5d3",
   "metadata": {},
   "outputs": [],
   "source": [
    "# Classe\n",
    "class Cane:\n",
    "    pass  # Per non far andare in errore la classe\n",
    "\n",
    "# Oggetti\n",
    "cane1 = Cane()\n",
    "cane2 = Cane()"
   ]
  },
  {
   "cell_type": "code",
   "execution_count": 13,
   "id": "b09feed8",
   "metadata": {},
   "outputs": [
    {
     "name": "stdout",
     "output_type": "stream",
     "text": [
      "Fido\n",
      "Rex\n"
     ]
    }
   ],
   "source": [
    "# Creiamo un costruttore dell'oggetto che verrà lanciato durante l'inizializzazione\n",
    "class Cane:\n",
    "    def __init__(self, nome, eta, tipologia):\n",
    "        self.nome = nome\n",
    "        self.eta = eta\n",
    "        self.tipologia = tipologia\n",
    "\n",
    "cane1 = Cane('Fido', '2', 'Alano')\n",
    "cane2 = Cane('Rex', '5', 'Pastore tedesco')\n",
    "\n",
    "print(cane1.nome)\n",
    "print(cane2.nome)"
   ]
  },
  {
   "cell_type": "code",
   "execution_count": 14,
   "id": "8497ebb1",
   "metadata": {},
   "outputs": [
    {
     "name": "stdout",
     "output_type": "stream",
     "text": [
      "Bau Fido\n",
      "Bau Rex\n"
     ]
    }
   ],
   "source": [
    "# Creiamo metodi in una classe\n",
    "class Cane:\n",
    "    def __init__(self, nome, eta, tipologia):\n",
    "        self.nome = nome\n",
    "        self.eta = eta\n",
    "        self.tipologia = tipologia\n",
    "    def parla(self):\n",
    "        print('Bau '+self.nome)\n",
    "\n",
    "cane1 = Cane('Fido', '2', 'Alano')\n",
    "cane2 = Cane('Rex', '5', 'Pastore tedesco')\n",
    "\n",
    "cane1.parla()\n",
    "cane2.parla()"
   ]
  },
  {
   "cell_type": "code",
   "execution_count": 15,
   "id": "838aefca",
   "metadata": {},
   "outputs": [
    {
     "name": "stdout",
     "output_type": "stream",
     "text": [
      "Bau Fido\n",
      "Bye Fido\n",
      "name 'cane1' is not defined\n",
      "Bau Rex\n",
      "Bye Rex\n"
     ]
    }
   ],
   "source": [
    "# Creiamo il distruttore dell'oggetto che viene lanciato subito prima che l’oggetto venga eliminato dalla memoria\n",
    "class Cane:\n",
    "    def __init__(self, nome, eta, tipologia):\n",
    "        self.nome = nome\n",
    "        self.eta = eta\n",
    "        self.tipologia = tipologia\n",
    "    def parla(self):\n",
    "        print('Bau '+self.nome)\n",
    "    def __del__(self):\n",
    "        print('Bye '+self.nome)\n",
    "\n",
    "cane1 = Cane('Fido', '2', 'Alano')\n",
    "cane2 = Cane('Rex', '5', 'Pastore tedesco')\n",
    "\n",
    "cane1.parla()\n",
    "del cane1\n",
    "\n",
    "try:\n",
    "    cane1.parla()\n",
    "except Exception as e:\n",
    "    print(e)\n",
    "\n",
    "cane2.parla()\n",
    "\n",
    "del cane2"
   ]
  },
  {
   "cell_type": "markdown",
   "id": "5a1050ac",
   "metadata": {},
   "source": [
    "### Ereditarietà\n",
    "\n",
    "L'eredità serve per non creare classi da zero, ma ereditare alcuni attributi e metodi da altre classi (chiamate <i>genitori</i>).\n",
    "In Python, l'ereditarietà si ottiene scrivendo il nome della classe genitore tra le parentesi della definizione della classe figlia e tramite il costrutto \"super\" per far riferimento al costruttore della classe genitore."
   ]
  },
  {
   "cell_type": "code",
   "execution_count": 39,
   "id": "c6bb8396",
   "metadata": {},
   "outputs": [],
   "source": [
    "class Animale:\n",
    "    def __init__(self, nome, eta, tipo_animale):\n",
    "        self.nome = nome\n",
    "        self.eta = eta\n",
    "        self.tipo_animale = tipo_animale\n",
    "    def dimmi_tipo_animale(self):\n",
    "        print(self.nome + ' --> ' + self.tipo_animale)\n",
    "    def parla(self):\n",
    "        print('....')\n",
    "    def __del__(self):\n",
    "        print('Bye '+self.nome)\n",
    "        \n",
    "class Cane(Animale):\n",
    "    def __init__(self,nome,eta,tipo_animale,tipo_cane):\n",
    "        super().__init__(nome,eta,tipo_animale)\n",
    "        self.tipo_cane = tipo_cane\n",
    "    def parla(self):\n",
    "        print(self.tipo_cane + ' ' + self.nome+' dice bau')\n",
    "        \n",
    "class Gatto(Animale):\n",
    "    def __init__(self,nome,eta,tipo_animale,colore_manto):\n",
    "        super().__init__(nome,eta,tipo_animale)\n",
    "        self.colore_manto = colore_manto\n",
    "    def parla(self):\n",
    "        print('Gatto ' + self.nome+' colore ' + self.colore_manto)"
   ]
  },
  {
   "cell_type": "code",
   "execution_count": 40,
   "id": "b62c2cc6",
   "metadata": {},
   "outputs": [
    {
     "name": "stdout",
     "output_type": "stream",
     "text": [
      "Fido --> cane\n",
      "alano Fido dice bau\n",
      "Bye Fido\n",
      "Micio --> gatto\n",
      "Gatto Micio colore nero\n",
      "Bye Micio\n"
     ]
    }
   ],
   "source": [
    "cane3 = Cane('Fido', '2', 'cane', 'alano')\n",
    "cane3.dimmi_tipo_animale()\n",
    "cane3.parla()\n",
    "del cane3\n",
    "\n",
    "gatto = Gatto('Micio', '1', 'gatto', 'nero')\n",
    "gatto.dimmi_tipo_animale()\n",
    "gatto.parla()\n",
    "del gatto"
   ]
  }
 ],
 "metadata": {
  "kernelspec": {
   "display_name": "Python 3",
   "language": "python",
   "name": "python3"
  },
  "language_info": {
   "codemirror_mode": {
    "name": "ipython",
    "version": 3
   },
   "file_extension": ".py",
   "mimetype": "text/x-python",
   "name": "python",
   "nbconvert_exporter": "python",
   "pygments_lexer": "ipython3",
   "version": "3.9.2"
  },
  "widgets": {
   "application/vnd.jupyter.widget-state+json": {
    "state": {},
    "version_major": 2,
    "version_minor": 0
   }
  }
 },
 "nbformat": 4,
 "nbformat_minor": 5
}
